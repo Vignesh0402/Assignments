{
 "cells": [
  {
   "cell_type": "code",
   "execution_count": 3,
   "id": "e6bb6e3e",
   "metadata": {},
   "outputs": [
    {
     "name": "stdout",
     "output_type": "stream",
     "text": [
      "[17, 15, 4]\n",
      "[10, 12, 9]\n",
      "[11, 13, 18]\n"
     ]
    }
   ],
   "source": [
    "#Q1. Write a Python Program to Add Two Matrices?\n",
    "\n",
    "\n",
    "X = [[12,7,3],\n",
    "    [4 ,5,6],\n",
    "    [7 ,8,9]]\n",
    "\n",
    "Y = [[5,8,1],\n",
    "    [6,7,3],\n",
    "    [4,5,9]]\n",
    "\n",
    "result = [\n",
    "    [X[i][j] + Y[i][j]  for j in range(len(X[0]))] \n",
    "    for i in range(len(X))]\n",
    "\n",
    "for r in result:\n",
    "    print(r)"
   ]
  },
  {
   "cell_type": "code",
   "execution_count": 2,
   "id": "38d339a2",
   "metadata": {},
   "outputs": [
    {
     "name": "stdout",
     "output_type": "stream",
     "text": [
      "Enter the number of rows in 1st Matrix:3\n",
      "Enter the number of columns in 1st matrix:3\n",
      "Enter the number of rows in 2nd Matrix:3\n",
      "Enter the number of columnsin 2nd matrix:3\n",
      "Enter the entries of 1st Matrix rowwise:\n",
      "1\n",
      "2\n",
      "3\n",
      "4\n",
      "5\n",
      "6\n",
      "7\n",
      "8\n",
      "9\n",
      "Enter the entries of 2nd Matrix rowwise:\n",
      "9\n",
      "8\n",
      "7\n",
      "6\n",
      "5\n",
      "4\n",
      "3\n",
      "2\n",
      "1\n",
      "Product Matrix =\n",
      "  [30, 24, 18]\n",
      "  [84, 69, 54]\n",
      "  [138, 114, 90]\n"
     ]
    }
   ],
   "source": [
    "# Q2. Write a Python Program to Multiply Two Matrices?\n",
    "\n",
    "R1 = int(input(\"Enter the number of rows in 1st Matrix:\"))\n",
    "C1 = int(input(\"Enter the number of columns in 1st matrix:\"))\n",
    "R2 = int(input(\"Enter the number of rows in 2nd Matrix:\"))\n",
    "C2 = int(input(\"Enter the number of columnsin 2nd matrix:\"))\n",
    "\n",
    "if C1 != R2 :\n",
    "    print(\"\\n'Matrix multiplication not possible.'\")\n",
    "else :\n",
    "    m1 = []\n",
    "    print(\"Enter the entries of 1st Matrix rowwise:\")\n",
    "    \n",
    "    for i in range(R1):\t\t # A for loop for row entries\n",
    "        a =[]\n",
    "        for j in range(C1):\t # A for loop for column entries\n",
    "            a.append(int(input()))\n",
    "        m1.append(a)\n",
    "\n",
    "    m2 = []\n",
    "    print(\"Enter the entries of 2nd Matrix rowwise:\")\n",
    "\n",
    "    for i in range(R2):\t\t # A for loop for row entries\n",
    "        a =[]\n",
    "        for j in range(C2):\t # A for loop for column entries\n",
    "            a.append(int(input()))\n",
    "        m2.append(a)\n",
    "\n",
    "result=[]\n",
    "for i in range(R1):\n",
    "    p=[]\n",
    "    for j in range(C2):\n",
    "        s=0\n",
    "        \n",
    "        for k in range(C1):\n",
    "            s+=m1[i][k]*m2[k][j]\n",
    "        p.append(s)\n",
    "    result.append(p)\n",
    "\n",
    "print('Product Matrix =')\n",
    "for i in result :\n",
    "    print(' ',i)"
   ]
  },
  {
   "cell_type": "code",
   "execution_count": 5,
   "id": "e0a52074",
   "metadata": {},
   "outputs": [
    {
     "name": "stdout",
     "output_type": "stream",
     "text": [
      "[1, 3, 5]\n",
      "[2, 4, 6]\n"
     ]
    }
   ],
   "source": [
    "#Q3. Write a Python Program to Transpose a Matrix?\n",
    "X = [[1,2],\n",
    "    [3 ,4],\n",
    "    [5,6]]\n",
    "\n",
    "result = [[0,0,0],\n",
    "         [0,0,0]]\n",
    "\n",
    "# iterate through rows\n",
    "for i in range(len(X)):\n",
    "   # iterate through columns\n",
    "   for j in range(len(X[0])):\n",
    "        result[j][i] = X[i][j]\n",
    "\n",
    "for r in result:\n",
    "    print(r)"
   ]
  },
  {
   "cell_type": "code",
   "execution_count": 2,
   "id": "aae3da63",
   "metadata": {},
   "outputs": [
    {
     "name": "stdout",
     "output_type": "stream",
     "text": [
      "Enter a sentence in alphabetical order: \n",
      "God is watching you\n",
      "\n",
      " Words in alphabetical order :\n",
      "  1 God\n",
      "  2 Is\n",
      "  3 Watching\n",
      "  4 You\n"
     ]
    }
   ],
   "source": [
    "#Q4. Write a Python Program to Sort Words in Alphabetic Order?\n",
    "\n",
    "print(\"Enter a sentence in alphabetical order: \")\n",
    "alpha_words = list(map(str,input().strip().split()))\n",
    "alpha_word = [i.capitalize() for i in alpha_words]\n",
    "alpha_word.sort()\n",
    "print(\"\\n Words in alphabetical order :\")\n",
    "for i in alpha_word :\n",
    "    print(' ',alpha_word.index(i)+1,i)"
   ]
  },
  {
   "cell_type": "code",
   "execution_count": 5,
   "id": "d0add27e",
   "metadata": {},
   "outputs": [
    {
     "name": "stdout",
     "output_type": "stream",
     "text": [
      "Enter any text to remove punctions: Hii!!! How are you?.. Nice to see you again.....\n",
      "\n",
      " Before removing punctuations : Hii!!! How are you?.. Nice to see you again.....\n",
      "\n",
      " After removing punctuations :  Hii How are you Nice to see you again\n"
     ]
    }
   ],
   "source": [
    "#Q5. Write a Python Program to Remove Punctuation From a String?\n",
    "import string\n",
    "s = input(\"Enter any text to remove punctions: \")\n",
    "updated_s = ' '\n",
    "for i in s:\n",
    "    if i not in string.punctuation:\n",
    "        updated_s += i\n",
    "print(\"\\n Before removing punctuations :\", s)\n",
    "print(\"\\n After removing punctuations :\",updated_s)"
   ]
  }
 ],
 "metadata": {
  "kernelspec": {
   "display_name": "Python 3 (ipykernel)",
   "language": "python",
   "name": "python3"
  },
  "language_info": {
   "codemirror_mode": {
    "name": "ipython",
    "version": 3
   },
   "file_extension": ".py",
   "mimetype": "text/x-python",
   "name": "python",
   "nbconvert_exporter": "python",
   "pygments_lexer": "ipython3",
   "version": "3.9.12"
  }
 },
 "nbformat": 4,
 "nbformat_minor": 5
}
