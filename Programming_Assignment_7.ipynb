{
 "cells": [
  {
   "cell_type": "code",
   "execution_count": 1,
   "metadata": {},
   "outputs": [
    {
     "name": "stdout",
     "output_type": "stream",
     "text": [
      "55\n"
     ]
    }
   ],
   "source": [
    "#Q1. Write a Python Program to find sum of array?\n",
    "\n",
    "arr = [1,2,3,4,5,6,7,8,9,10]\n",
    "\n",
    "print(sum(arr))"
   ]
  },
  {
   "cell_type": "code",
   "execution_count": 2,
   "metadata": {},
   "outputs": [
    {
     "name": "stdout",
     "output_type": "stream",
     "text": [
      "10\n"
     ]
    }
   ],
   "source": [
    "# Q2. Write a Python Program to find largest element in an array?\n",
    "\n",
    "print(max(arr))"
   ]
  },
  {
   "cell_type": "code",
   "execution_count": 11,
   "metadata": {},
   "outputs": [
    {
     "data": {
      "text/plain": [
       "[10, 9, 8, 7, 6, 5, 4, 3, 2, 1]"
      ]
     },
     "execution_count": 11,
     "metadata": {},
     "output_type": "execute_result"
    }
   ],
   "source": [
    "#Q3. Write a Python program for array rotation?\n",
    "\n",
    "def rotation_array(a):\n",
    "    l =[]\n",
    "    for i in range(len(a)-1,-1,-1):\n",
    "        l.append(a[i])\n",
    "    return l\n",
    "\n",
    "rotation_array(arr)"
   ]
  },
  {
   "cell_type": "code",
   "execution_count": 13,
   "metadata": {},
   "outputs": [
    {
     "data": {
      "text/plain": [
       "[4, 5, 6, 7, 8, 9, 10, 1, 2, 3]"
      ]
     },
     "execution_count": 13,
     "metadata": {},
     "output_type": "execute_result"
    }
   ],
   "source": [
    "#Q4. Write a Python Program to Split the array and add the first part to the end?\n",
    "\n",
    "def split_array(s,e):\n",
    "    return (arr[e::]+arr[:e:])\n",
    "split_array(arr,3) # where 3 indicates how many parts to the end of the list"
   ]
  },
  {
   "cell_type": "code",
   "execution_count": 14,
   "metadata": {},
   "outputs": [
    {
     "name": "stdout",
     "output_type": "stream",
     "text": [
      "True\n"
     ]
    }
   ],
   "source": [
    "#Q5. Write a Python Program to check if given array is Monotonic?\n",
    "\"\"\"\n",
    "An array 'a' is continuously increasing if for all i <= j,   a[i] <= a[j].\n",
    "An array 'a' is continuously decreasing if for all i <= j,   a[i] >= a[j].\n",
    "\"\"\"\n",
    "def isMonotonic(a):\n",
    "   return (all(a[i] <= a[i + 1] for i in range(len(a) - 1)) or \n",
    "           all(a[i] >= a[i + 1] for i in range(len(a) - 1)))\n",
    "\n",
    "print(isMonotonic(arr))"
   ]
  },
  {
   "cell_type": "code",
   "execution_count": null,
   "metadata": {},
   "outputs": [],
   "source": []
  }
 ],
 "metadata": {
  "kernelspec": {
   "display_name": "Python 3.9.7 64-bit",
   "language": "python",
   "name": "python3"
  },
  "language_info": {
   "codemirror_mode": {
    "name": "ipython",
    "version": 3
   },
   "file_extension": ".py",
   "mimetype": "text/x-python",
   "name": "python",
   "nbconvert_exporter": "python",
   "pygments_lexer": "ipython3",
   "version": "3.9.7"
  },
  "orig_nbformat": 4,
  "vscode": {
   "interpreter": {
    "hash": "e90ef6f367dd8917d31ee60a89e751978de239359fe2deff54d61b4065ef3009"
   }
  }
 },
 "nbformat": 4,
 "nbformat_minor": 2
}
