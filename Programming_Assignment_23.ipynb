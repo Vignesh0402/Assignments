{
 "cells": [
  {
   "cell_type": "markdown",
   "id": "e7005dae",
   "metadata": {},
   "source": [
    "# Question 1\n",
    "\n",
    "Create a function that takes a number as an argument and returns True or False depending on whether the number is symmetrical or not. A number is symmetrical when it is the same as its reverse.\n",
    "\n",
    "Examples\n",
    "\n",
    "is_symmetrical(7227) ➞ True\n",
    "\n",
    "is_symmetrical(12567) ➞ False\n",
    "\n",
    "is_symmetrical(44444444) ➞ True\n",
    "\n",
    "is_symmetrical(9939) ➞ False\n",
    "\n",
    "is_symmetrical(1112111) ➞ True"
   ]
  },
  {
   "cell_type": "code",
   "execution_count": 1,
   "id": "7f0d0e16",
   "metadata": {},
   "outputs": [],
   "source": [
    "def is_symmetrical(number):\n",
    "    # Convert the number to a string\n",
    "    num_str = str(number)\n",
    "    \n",
    "    # Compare the original string with its reverse\n",
    "    return num_str == num_str[::-1]"
   ]
  },
  {
   "cell_type": "code",
   "execution_count": 2,
   "id": "2c3a6a6a",
   "metadata": {},
   "outputs": [
    {
     "data": {
      "text/plain": [
       "True"
      ]
     },
     "execution_count": 2,
     "metadata": {},
     "output_type": "execute_result"
    }
   ],
   "source": [
    "is_symmetrical(7227)"
   ]
  },
  {
   "cell_type": "code",
   "execution_count": 3,
   "id": "55705eec",
   "metadata": {},
   "outputs": [
    {
     "data": {
      "text/plain": [
       "False"
      ]
     },
     "execution_count": 3,
     "metadata": {},
     "output_type": "execute_result"
    }
   ],
   "source": [
    "is_symmetrical(12567)"
   ]
  },
  {
   "cell_type": "code",
   "execution_count": 4,
   "id": "7f211536",
   "metadata": {},
   "outputs": [
    {
     "data": {
      "text/plain": [
       "True"
      ]
     },
     "execution_count": 4,
     "metadata": {},
     "output_type": "execute_result"
    }
   ],
   "source": [
    "is_symmetrical(44444444)"
   ]
  },
  {
   "cell_type": "code",
   "execution_count": 5,
   "id": "03ba65af",
   "metadata": {},
   "outputs": [
    {
     "data": {
      "text/plain": [
       "False"
      ]
     },
     "execution_count": 5,
     "metadata": {},
     "output_type": "execute_result"
    }
   ],
   "source": [
    "is_symmetrical(9939)"
   ]
  },
  {
   "cell_type": "code",
   "execution_count": 6,
   "id": "b1439743",
   "metadata": {},
   "outputs": [
    {
     "data": {
      "text/plain": [
       "True"
      ]
     },
     "execution_count": 6,
     "metadata": {},
     "output_type": "execute_result"
    }
   ],
   "source": [
    "is_symmetrical(1112111)"
   ]
  },
  {
   "cell_type": "markdown",
   "id": "d30d88e9",
   "metadata": {},
   "source": [
    "# Question 2\n",
    "\n",
    "Given a string of numbers separated by a comma and space, return the product of the numbers.\n",
    "\n",
    "Examples\n",
    "\n",
    "multiply_nums(\"2, 3\") ➞ 6\n",
    "\n",
    "multiply_nums(\"1, 2, 3, 4\") ➞ 24\n",
    "\n",
    "multiply_nums(\"54, 75, 453, 0\") ➞ 0\n",
    "\n",
    "multiply_nums(\"10, -2\") ➞ -20"
   ]
  },
  {
   "cell_type": "code",
   "execution_count": 7,
   "id": "930fa6e4",
   "metadata": {},
   "outputs": [],
   "source": [
    "def product_of_numbers(input_string):\n",
    "    # Split the input string into individual numbers\n",
    "    numbers_list = input_string.split(\", \")\n",
    "\n",
    "    # Convert the numbers from strings to integers\n",
    "    numbers = [int(num) for num in numbers_list]\n",
    "\n",
    "    # Calculate the product of the numbers using the built-in `reduce` function from the `functools` module\n",
    "    from functools import reduce\n",
    "    product = reduce(lambda x, y: x * y, numbers)\n",
    "\n",
    "    return product"
   ]
  },
  {
   "cell_type": "code",
   "execution_count": 8,
   "id": "3c463ac5",
   "metadata": {},
   "outputs": [
    {
     "name": "stdout",
     "output_type": "stream",
     "text": [
      "210\n"
     ]
    }
   ],
   "source": [
    "input_string = \"2, 3, 5, 7\"\n",
    "print(product_of_numbers(input_string))"
   ]
  },
  {
   "cell_type": "code",
   "execution_count": 9,
   "id": "e5f9d1d9",
   "metadata": {},
   "outputs": [
    {
     "name": "stdout",
     "output_type": "stream",
     "text": [
      "120\n"
     ]
    }
   ],
   "source": [
    "input_string = \"1, 2, 3, 4, 5\"\n",
    "print(product_of_numbers(input_string))"
   ]
  },
  {
   "cell_type": "markdown",
   "id": "a60b418a",
   "metadata": {},
   "source": [
    "## Question 3\n",
    "\n",
    "Create a function that squares every digit of a number.\n",
    "Examples\n",
    "square_digits(9119) ➞ 811181\n",
    "square_digits(2483) ➞ 416649\n",
    "square_digits(3212) ➞ 9414"
   ]
  },
  {
   "cell_type": "code",
   "execution_count": 10,
   "id": "c1b51886",
   "metadata": {},
   "outputs": [],
   "source": [
    "def square_digits(number):\n",
    "    # Convert the number to a string\n",
    "    num_str = str(number)\n",
    "\n",
    "    # Initialize an empty string to store the squared digits\n",
    "    squared_str = \"\"\n",
    "\n",
    "    # Loop through each digit in the number\n",
    "    for digit in num_str:\n",
    "        # Square the digit and convert it back to an integer\n",
    "        squared_digit = int(digit) ** 2\n",
    "\n",
    "        # Append the squared digit to the result string\n",
    "        squared_str += str(squared_digit)\n",
    "\n",
    "    # Convert the squared string back to an integer and return\n",
    "    return int(squared_str)"
   ]
  },
  {
   "cell_type": "code",
   "execution_count": 11,
   "id": "20867452",
   "metadata": {},
   "outputs": [
    {
     "data": {
      "text/plain": [
       "149"
      ]
     },
     "execution_count": 11,
     "metadata": {},
     "output_type": "execute_result"
    }
   ],
   "source": [
    "square_digits(123)"
   ]
  },
  {
   "cell_type": "code",
   "execution_count": 12,
   "id": "5e51c8c5",
   "metadata": {},
   "outputs": [
    {
     "data": {
      "text/plain": [
       "162536"
      ]
     },
     "execution_count": 12,
     "metadata": {},
     "output_type": "execute_result"
    }
   ],
   "source": [
    "square_digits(456)"
   ]
  },
  {
   "cell_type": "markdown",
   "id": "729e2318",
   "metadata": {},
   "source": [
    "# Question 4\n",
    "Create a function that sorts a list and removes all duplicate items from it.\n",
    "\n",
    "Examples\n",
    "\n",
    "setify([1, 3, 3, 5, 5]) ➞ [1, 3, 5]\n",
    "\n",
    "setify([4, 4, 4, 4]) ➞ [4]\n",
    "\n",
    "setify([5, 7, 8, 9, 10, 15]) ➞ [5, 7, 8, 9, 10, 15]\n",
    "\n",
    "setify([3, 3, 3, 2, 1]) ➞ [1, 2, 3]"
   ]
  },
  {
   "cell_type": "code",
   "execution_count": 13,
   "id": "f3441220",
   "metadata": {},
   "outputs": [],
   "source": [
    "def sort_and_remove_duplicates(input_list):\n",
    "    # Sort the list using the sorted() function\n",
    "    sorted_list = sorted(input_list)\n",
    "\n",
    "    # Convert the sorted list to a set to remove duplicates\n",
    "    unique_set = set(sorted_list)\n",
    "\n",
    "    # Convert the set back to a sorted list\n",
    "    result_list = sorted(unique_set)\n",
    "\n",
    "    return result_list"
   ]
  },
  {
   "cell_type": "code",
   "execution_count": 14,
   "id": "9de4add0",
   "metadata": {},
   "outputs": [
    {
     "name": "stdout",
     "output_type": "stream",
     "text": [
      "[1, 2, 3, 4, 5]\n"
     ]
    }
   ],
   "source": [
    "input_list= [3, 1, 2, 1, 4, 3, 5, 5]\n",
    "print(sort_and_remove_duplicates(input_list)) "
   ]
  },
  {
   "cell_type": "code",
   "execution_count": 15,
   "id": "acb8ea62",
   "metadata": {},
   "outputs": [
    {
     "name": "stdout",
     "output_type": "stream",
     "text": [
      "[2, 3, 5, 7, 9]\n"
     ]
    }
   ],
   "source": [
    "input_list = [9, 5, 7, 2, 5, 2, 9, 3]\n",
    "print(sort_and_remove_duplicates(input_list))"
   ]
  },
  {
   "cell_type": "code",
   "execution_count": 16,
   "id": "3ecb7650",
   "metadata": {
    "scrolled": true
   },
   "outputs": [
    {
     "name": "stdout",
     "output_type": "stream",
     "text": [
      "[1, 2, 3]\n"
     ]
    }
   ],
   "source": [
    "input_list =[3, 3, 3, 2, 1]\n",
    "print(sort_and_remove_duplicates(input_list))"
   ]
  },
  {
   "cell_type": "markdown",
   "id": "e45a5ef2",
   "metadata": {},
   "source": [
    "# Question 5\n",
    "Create a function that returns the mean of all digits.\n",
    "\n",
    "Examples\n",
    "\n",
    "mean(42) ➞ 3\n",
    "mean(12345) ➞ 3\n",
    "mean(666) ➞ 6\n",
    "Notes\n",
    " The mean of all digits is the sum of digits / how many digits there are (e.g. mean of digits in\n",
    "512 is (5+1+2)/3(number of digits) = 8/3=2).\n",
    " The mean will always be an integer."
   ]
  },
  {
   "cell_type": "code",
   "execution_count": 17,
   "id": "d14b2949",
   "metadata": {},
   "outputs": [],
   "source": [
    "def mean_of_digits(number):\n",
    "    # Convert the number to a string to access its individual digits\n",
    "    number_str = str(number)\n",
    "\n",
    "    # Calculate the sum of all digits\n",
    "    sum_of_digits = sum(int(digit_str) for digit_str in number_str)\n",
    "\n",
    "    # Calculate the mean by dividing the sum by the total number of digits\n",
    "    mean = sum_of_digits / len(number_str)\n",
    "\n",
    "    return mean"
   ]
  },
  {
   "cell_type": "code",
   "execution_count": 18,
   "id": "f86430da",
   "metadata": {},
   "outputs": [
    {
     "name": "stdout",
     "output_type": "stream",
     "text": [
      "2.0\n"
     ]
    }
   ],
   "source": [
    "print(mean_of_digits(123))"
   ]
  },
  {
   "cell_type": "code",
   "execution_count": 19,
   "id": "7834c3bc",
   "metadata": {},
   "outputs": [
    {
     "name": "stdout",
     "output_type": "stream",
     "text": [
      "6.5\n"
     ]
    }
   ],
   "source": [
    "print(mean_of_digits(456789)) "
   ]
  }
 ],
 "metadata": {
  "kernelspec": {
   "display_name": "Python 3 (ipykernel)",
   "language": "python",
   "name": "python3"
  },
  "language_info": {
   "codemirror_mode": {
    "name": "ipython",
    "version": 3
   },
   "file_extension": ".py",
   "mimetype": "text/x-python",
   "name": "python",
   "nbconvert_exporter": "python",
   "pygments_lexer": "ipython3",
   "version": "3.9.12"
  }
 },
 "nbformat": 4,
 "nbformat_minor": 5
}
