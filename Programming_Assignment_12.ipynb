{
 "cells": [
  {
   "cell_type": "code",
   "execution_count": 1,
   "id": "f6fb4615",
   "metadata": {},
   "outputs": [
    {
     "name": "stdout",
     "output_type": "stream",
     "text": [
      "{'student', 'ineuron.ai', 'Vignesh', '@', 'learning_Data Science'}\n"
     ]
    }
   ],
   "source": [
    "#Q1. Write a Python program to Extract Unique values dictionary values?\n",
    "\n",
    "d = {'key1':'Vignesh','key2':'student','key3':'@','key4':'ineuron.ai','key5':'learning_Data Science'}\n",
    "l = []\n",
    "for i in d.values():\n",
    "    l.append(i)\n",
    "print(set(l))"
   ]
  },
  {
   "cell_type": "code",
   "execution_count": 2,
   "id": "964fc444",
   "metadata": {},
   "outputs": [
    {
     "name": "stdout",
     "output_type": "stream",
     "text": [
      "703\n"
     ]
    }
   ],
   "source": [
    "#Q2. Write a Python program to find the sum of all items in a dictionary?\n",
    "\n",
    "d={'k1':123,'k2':345,'k3':34,'k4':78,'k5':123}\n",
    "l =[]\n",
    "for i in d.values():\n",
    "    l.append(i)\n",
    "print(sum(l))"
   ]
  },
  {
   "cell_type": "code",
   "execution_count": 3,
   "id": "56471d63",
   "metadata": {},
   "outputs": [
    {
     "data": {
      "text/plain": [
       "{'key1': 'Vignesh',\n",
       " 'key2': 'student',\n",
       " 'key3': '@',\n",
       " 'key4': 'ineuron.ai',\n",
       " 'key5': 'learning_Data Science',\n",
       " 'key6': 123,\n",
       " 'key7': 345,\n",
       " 'key8': 34,\n",
       " 'key9': 78,\n",
       " 'key10': 123}"
      ]
     },
     "execution_count": 3,
     "metadata": {},
     "output_type": "execute_result"
    }
   ],
   "source": [
    "#Q3. Write a Python program to Merging two dictionary?\n",
    "\n",
    "def merge_dict(dic1,dic2):\n",
    "    for i, j in dic2.items():\n",
    "        dic1[i] = j\n",
    "    return dic1\n",
    "dic1 = {'key1':'Vignesh',\n",
    "        'key2':'student',\n",
    "        'key3':'@',\n",
    "        'key4':'ineuron.ai',\n",
    "        'key5':'learning_Data Science'}\n",
    "dic2 = {'key6':123,'key7':345,'key8':34,'key9':78,'key10':123}\n",
    "merge_dict(dic1,dic2)"
   ]
  },
  {
   "cell_type": "code",
   "execution_count": 4,
   "id": "372f299d",
   "metadata": {},
   "outputs": [
    {
     "name": "stdout",
     "output_type": "stream",
     "text": [
      "{'key1': 'Vignesh', 'key2': 'India', 'key3': 'Tamil nadu', 'key4': 'Vellore', 'key5': 'Ranipet'}\n"
     ]
    }
   ],
   "source": [
    "#Q4. Write a Python program to convert key-values to flat dictionary?\n",
    "\n",
    "keys  = ['key1','key2','key3','key4','key5']\n",
    "values = ['Vignesh','India','Tamil nadu','Vellore','Ranipet']\n",
    "d = {}\n",
    "for i in range(len(keys)):\n",
    "    d[keys[i]] = values[i]\n",
    "print(d)"
   ]
  },
  {
   "cell_type": "code",
   "execution_count": 5,
   "id": "d8708939",
   "metadata": {},
   "outputs": [
    {
     "name": "stdout",
     "output_type": "stream",
     "text": [
      "Enter the key :k0\n",
      "Enter the value :Japan\n",
      "\n",
      "List before :  OrderedDict([('k1', 'India'), ('k2', 'China'), ('k3', 'Bhutan'), ('k4', 'Nepal')])\n",
      "\n",
      "List after:  OrderedDict([('k0', 'Japan'), ('k1', 'India'), ('k2', 'China'), ('k3', 'Bhutan'), ('k4', 'Nepal')])\n"
     ]
    }
   ],
   "source": [
    "#Q5. Write a Python program to insertion at the beginning in OrderedDict?\n",
    "\n",
    "from collections import OrderedDict\n",
    "k=input('Enter the key :')\n",
    "v=input('Enter the value :')\n",
    "\n",
    "od = OrderedDict()\n",
    "od['k1'] = 'India'\n",
    "od['k2'] = 'China'\n",
    "od['k3'] = 'Bhutan'\n",
    "od['k4'] = 'Nepal'\n",
    "\n",
    "d1={}\n",
    "d1[k]=v\n",
    "print('\\nList before : ',od)\n",
    "print('\\nList after: ',OrderedDict(merge_dict(d1,od)))"
   ]
  },
  {
   "cell_type": "code",
   "execution_count": 6,
   "id": "b051c998",
   "metadata": {},
   "outputs": [
    {
     "data": {
      "text/plain": [
       "False"
      ]
     },
     "execution_count": 6,
     "metadata": {},
     "output_type": "execute_result"
    }
   ],
   "source": [
    "#Q6. Write a Python program to check order of character in string using OrderedDict()?\n",
    "\n",
    "def check_order(string,pattern):\n",
    "    d=OrderedDict.fromkeys(string)\n",
    "    pattern_len=0\n",
    "    for i in d.keys():\n",
    "        if i==pattern[pattern_len]:\n",
    "            pattern_len+=1\n",
    "        if pattern_len==len(pattern):\n",
    "            return True\n",
    "    return False\n",
    "\n",
    "string='I love DATA SCIENCE'\n",
    "pattern='ley'\n",
    "check_order(string,pattern)"
   ]
  },
  {
   "cell_type": "code",
   "execution_count": 7,
   "id": "4699c88b",
   "metadata": {},
   "outputs": [
    {
     "data": {
      "text/plain": [
       "True"
      ]
     },
     "execution_count": 7,
     "metadata": {},
     "output_type": "execute_result"
    }
   ],
   "source": [
    "string='I love my INDIA'\n",
    "pattern='ley'\n",
    "check_order(string,pattern)"
   ]
  },
  {
   "cell_type": "code",
   "execution_count": 8,
   "id": "55772c97",
   "metadata": {},
   "outputs": [
    {
     "name": "stdout",
     "output_type": "stream",
     "text": [
      "\n",
      "Original List : {'k1': 123, 'k2': 345, 'k3': 56, 'k4': 67, 'k5': 45, 987: 'zefcd', 789: 'differ'}\n",
      "\n",
      "Sorted list w.r.t keys :\n",
      "\n",
      "  789  -  differ\n",
      "  987  -  zefcd\n",
      "  k1  -  123\n",
      "  k2  -  345\n",
      "  k3  -  56\n",
      "  k4  -  67\n",
      "  k5  -  45\n",
      "None\n",
      "\n",
      "Sorted list w.r.t values :\n",
      "\n",
      "  k5  -  45\n",
      "  k3  -  56\n",
      "  k4  -  67\n",
      "  k1  -  123\n",
      "  k2  -  345\n",
      "  789  -  differ\n",
      "  987  -  zefcd\n",
      "None\n"
     ]
    }
   ],
   "source": [
    "#Q7. Write a Python program to sort Python Dictionaries by Key or Value?\n",
    "\n",
    "def sort_list(l):\n",
    "    l1=[]\n",
    "    l2=[]\n",
    "    x=[]\n",
    "    for i in l:\n",
    "        if type(i)==int:\n",
    "            l1.append(i)\n",
    "        else:\n",
    "            l2.append(i)\n",
    "    l1.sort()\n",
    "    l2.sort()\n",
    "    return l1+l2\n",
    "def sort_dict_keys(d):\n",
    "    l=[i for i in d.keys()]\n",
    "    \n",
    "    d1={}\n",
    "    for i in sort_list(l):\n",
    "        d1[i]=d[i]\n",
    "    print('\\nSorted list w.r.t keys :\\n')\n",
    "    for i,j in d1.items():\n",
    "        print(' ',i,' - ',j)\n",
    "\n",
    "def sort_dict_values(d):\n",
    "    l1=[[i,j] for i,j in d.items()]\n",
    "    l2=[k for k in d.values()]\n",
    "    \n",
    "    d1={}\n",
    "    for i in sort_list(l2):\n",
    "        for j in l1:\n",
    "            if j[1]==i:\n",
    "                d1[j[0]]=i\n",
    "    print('\\nSorted list w.r.t values :\\n')\n",
    "    for i,j in d1.items():\n",
    "        print(' ',i,' - ',j)\n",
    "        \n",
    "d1={'k1':123,'k2':345,'k3':56,'k4':67,'k5':45,987:'zefcd',789:'differ'}\n",
    "print('\\nOriginal List :',d1)\n",
    "print(sort_dict_keys(d1))\n",
    "print(sort_dict_values(d1))"
   ]
  },
  {
   "cell_type": "code",
   "execution_count": null,
   "id": "4e79c706",
   "metadata": {},
   "outputs": [],
   "source": []
  }
 ],
 "metadata": {
  "kernelspec": {
   "display_name": "Python 3 (ipykernel)",
   "language": "python",
   "name": "python3"
  },
  "language_info": {
   "codemirror_mode": {
    "name": "ipython",
    "version": 3
   },
   "file_extension": ".py",
   "mimetype": "text/x-python",
   "name": "python",
   "nbconvert_exporter": "python",
   "pygments_lexer": "ipython3",
   "version": "3.9.12"
  }
 },
 "nbformat": 4,
 "nbformat_minor": 5
}
