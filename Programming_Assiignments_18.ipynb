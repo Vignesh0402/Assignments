{
 "cells": [
  {
   "cell_type": "markdown",
   "id": "ea8eae63",
   "metadata": {},
   "source": [
    "Question 1\n",
    "Create a function that takes a list of non-negative integers and strings and return a new list without the strings. \n",
    "Examples \n",
    "filter_list([1, 2, \"a\", \"b\"]) ➞ [1, 2] \n",
    "filter_list([1, \"a\", \"b\", 0, 15]) ➞ [1, 0, 15] \n",
    "filter_list([1, 2, \"aasf\", \"1\", \"123\", 123]) ➞ [1, 2, 123]"
   ]
  },
  {
   "cell_type": "code",
   "execution_count": 1,
   "id": "a282d899",
   "metadata": {},
   "outputs": [],
   "source": [
    "def filter_list(l):\n",
    "    try:\n",
    "        i = 0\n",
    "        while i<len(l):\n",
    "            if type(l[i])==int:\n",
    "                i += 1\n",
    "            else:\n",
    "                l.remove(l[i])\n",
    "        return l\n",
    "    except Exception as e :\n",
    "        print(\"This is a list that contains negative integers and strings in it.\",e)"
   ]
  },
  {
   "cell_type": "code",
   "execution_count": 2,
   "id": "ff0184f0",
   "metadata": {},
   "outputs": [
    {
     "data": {
      "text/plain": [
       "[1, 2]"
      ]
     },
     "execution_count": 2,
     "metadata": {},
     "output_type": "execute_result"
    }
   ],
   "source": [
    "filter_list([1,2,\"a\",\"b\"])"
   ]
  },
  {
   "cell_type": "code",
   "execution_count": 3,
   "id": "cbfd0f35",
   "metadata": {},
   "outputs": [
    {
     "data": {
      "text/plain": [
       "[1, 0, 15]"
      ]
     },
     "execution_count": 3,
     "metadata": {},
     "output_type": "execute_result"
    }
   ],
   "source": [
    "filter_list([1, \"a\", \"b\", 0, 15])"
   ]
  },
  {
   "cell_type": "code",
   "execution_count": 4,
   "id": "ff064b61",
   "metadata": {},
   "outputs": [
    {
     "data": {
      "text/plain": [
       "[1, 2, 123]"
      ]
     },
     "execution_count": 4,
     "metadata": {},
     "output_type": "execute_result"
    }
   ],
   "source": [
    "filter_list([1, 2, \"aasf\", \"1\", \"123\", 123])"
   ]
  },
  {
   "cell_type": "markdown",
   "id": "03bb0205",
   "metadata": {},
   "source": [
    "Question 2\n",
    "The \"Reverser\" takes a string as input and returns that string in reverse order, with the opposite case. \n",
    "Examples \n",
    "reverse(\"Hello World\") ➞ \"DLROw OLLEh\" \n",
    "reverse(\"ReVeRsE\") ➞ \"eSrEvEr\" \n",
    "reverse(\"Radar\") ➞ \"RADAr\""
   ]
  },
  {
   "cell_type": "code",
   "execution_count": 5,
   "id": "dd9424a6",
   "metadata": {},
   "outputs": [],
   "source": [
    "def reverse(string):\n",
    "    try:\n",
    "        s = string.swapcase()\n",
    "        l = list(s)\n",
    "        l.reverse()\n",
    "        for i in l:\n",
    "            print(i,end='')\n",
    "    except Exception as e :\n",
    "        print(\"This is not a string.\",e)"
   ]
  },
  {
   "cell_type": "code",
   "execution_count": 6,
   "id": "cc9851c9",
   "metadata": {},
   "outputs": [
    {
     "name": "stdout",
     "output_type": "stream",
     "text": [
      "DLROw OLLEh"
     ]
    }
   ],
   "source": [
    "reverse(\"Hello World\")"
   ]
  },
  {
   "cell_type": "code",
   "execution_count": 7,
   "id": "7ed78458",
   "metadata": {},
   "outputs": [
    {
     "name": "stdout",
     "output_type": "stream",
     "text": [
      "eSrEvEr"
     ]
    }
   ],
   "source": [
    "reverse(\"ReVeRsE\")"
   ]
  },
  {
   "cell_type": "code",
   "execution_count": 8,
   "id": "5fb45e86",
   "metadata": {},
   "outputs": [
    {
     "name": "stdout",
     "output_type": "stream",
     "text": [
      "RADAr"
     ]
    }
   ],
   "source": [
    "reverse(\"Radar\")"
   ]
  },
  {
   "cell_type": "markdown",
   "id": "a9b18763",
   "metadata": {},
   "source": [
    "Question 3\n",
    "You can assign variables from lists like this: \n",
    "lst = [1, 2, 3, 4, 5, 6] \n",
    "first = lst[0] \n",
    "middle = lst[1:-1] \n",
    "last = lst[-1] \n",
    "print(first) ➞ outputs 1 \n",
    "print(middle) ➞ outputs [2, 3, 4, 5] \n",
    "\n",
    "print(last) ➞ outputs 6 With Python 3, you can assign variables from lists in a much more succinct way. Create variables first, middle and last from the given list using destructuring assignment (check the Resources tab for some examples), where: \n",
    "first ➞ 1 middle ➞ [2, 3, 4, 5] last ➞ 6\n",
    "Your task is to unpack the list writeyourcodehere into three variables, being first, middle, and last, with middle being everything in between the first and last element. Then print all three variables."
   ]
  },
  {
   "cell_type": "code",
   "execution_count": 9,
   "id": "9701e0f9",
   "metadata": {},
   "outputs": [],
   "source": [
    "def list_comprehension(l):\n",
    "    print('First = ',l[0])\n",
    "    print(\"Middle = \",l[1:-1])\n",
    "    print('Last = ',l[-1])"
   ]
  },
  {
   "cell_type": "code",
   "execution_count": 10,
   "id": "c14705a4",
   "metadata": {},
   "outputs": [
    {
     "name": "stdout",
     "output_type": "stream",
     "text": [
      "First =  1\n",
      "Middle =  [2, 3, 4, 5]\n",
      "Last =  6\n"
     ]
    }
   ],
   "source": [
    "list_comprehension([1,2,3,4,5,6])"
   ]
  },
  {
   "cell_type": "markdown",
   "id": "17514aa9",
   "metadata": {},
   "source": [
    "Question 4\n",
    "Write a function that calculates the factorial of a number recursively.\n",
    "Examples\n",
    "factorial(5) ➞ 120\n",
    "factorial(3) ➞ 6\n",
    "factorial(1) ➞ 1\n",
    "factorial(0) ➞ 1"
   ]
  },
  {
   "cell_type": "code",
   "execution_count": 11,
   "id": "499012b1",
   "metadata": {},
   "outputs": [],
   "source": [
    "def factorial(n):\n",
    "    if (n == 1 or n ==0) :\n",
    "        return 1\n",
    "    else:\n",
    "        return n*factorial(n-1)"
   ]
  },
  {
   "cell_type": "code",
   "execution_count": 12,
   "id": "3e84c298",
   "metadata": {},
   "outputs": [
    {
     "data": {
      "text/plain": [
       "120"
      ]
     },
     "execution_count": 12,
     "metadata": {},
     "output_type": "execute_result"
    }
   ],
   "source": [
    "factorial(5)"
   ]
  },
  {
   "cell_type": "code",
   "execution_count": 13,
   "id": "e5180d7b",
   "metadata": {},
   "outputs": [
    {
     "data": {
      "text/plain": [
       "6"
      ]
     },
     "execution_count": 13,
     "metadata": {},
     "output_type": "execute_result"
    }
   ],
   "source": [
    "factorial(3)"
   ]
  },
  {
   "cell_type": "code",
   "execution_count": 14,
   "id": "40919e44",
   "metadata": {},
   "outputs": [
    {
     "data": {
      "text/plain": [
       "1"
      ]
     },
     "execution_count": 14,
     "metadata": {},
     "output_type": "execute_result"
    }
   ],
   "source": [
    "factorial(1)"
   ]
  },
  {
   "cell_type": "code",
   "execution_count": 15,
   "id": "16dd2601",
   "metadata": {},
   "outputs": [
    {
     "data": {
      "text/plain": [
       "1"
      ]
     },
     "execution_count": 15,
     "metadata": {},
     "output_type": "execute_result"
    }
   ],
   "source": [
    "factorial(0)"
   ]
  },
  {
   "cell_type": "raw",
   "id": "fc33a321",
   "metadata": {},
   "source": [
    "Question 5\n",
    "Write a function that moves all elements of one type to the end of the list.\n",
    "Examples\n",
    "move_to_end([1, 3, 2, 4, 4, 1], 1) ➞ [3, 2, 4, 4, 1, 1]\n",
    "# Move all the 1s to the end of the array.\n",
    "move_to_end([7, 8, 9, 1, 2, 3, 4], 9) ➞ [7, 8, 1, 2, 3, 4, 9]\n",
    "move_to_end([\"a\", \"a\", \"a\", \"b\"], \"a\") ➞ [\"b\", \"a\", \"a\",\"a\"]"
   ]
  },
  {
   "cell_type": "code",
   "execution_count": 17,
   "id": "6be971a3",
   "metadata": {},
   "outputs": [],
   "source": [
    "def move_to_end(lst,el):\n",
    "    lst.append(lst.pop(lst.index(el)))\n",
    "    return lst"
   ]
  },
  {
   "cell_type": "code",
   "execution_count": 18,
   "id": "abd82682",
   "metadata": {},
   "outputs": [
    {
     "data": {
      "text/plain": [
       "[3, 2, 4, 4, 1, 1]"
      ]
     },
     "execution_count": 18,
     "metadata": {},
     "output_type": "execute_result"
    }
   ],
   "source": [
    "move_to_end([1, 3, 2, 4, 4, 1], 1)"
   ]
  },
  {
   "cell_type": "code",
   "execution_count": 19,
   "id": "35afc3f4",
   "metadata": {},
   "outputs": [
    {
     "data": {
      "text/plain": [
       "[7, 8, 1, 2, 3, 4, 9]"
      ]
     },
     "execution_count": 19,
     "metadata": {},
     "output_type": "execute_result"
    }
   ],
   "source": [
    "move_to_end([7, 8, 9, 1, 2, 3, 4], 9)"
   ]
  },
  {
   "cell_type": "code",
   "execution_count": 20,
   "id": "5697e38e",
   "metadata": {},
   "outputs": [
    {
     "data": {
      "text/plain": [
       "['a', 'a', 'b', 'a']"
      ]
     },
     "execution_count": 20,
     "metadata": {},
     "output_type": "execute_result"
    }
   ],
   "source": [
    "move_to_end([\"a\",\"a\",\"a\",\"b\"],\"a\")"
   ]
  }
 ],
 "metadata": {
  "kernelspec": {
   "display_name": "Python 3 (ipykernel)",
   "language": "python",
   "name": "python3"
  },
  "language_info": {
   "codemirror_mode": {
    "name": "ipython",
    "version": 3
   },
   "file_extension": ".py",
   "mimetype": "text/x-python",
   "name": "python",
   "nbconvert_exporter": "python",
   "pygments_lexer": "ipython3",
   "version": "3.9.12"
  }
 },
 "nbformat": 4,
 "nbformat_minor": 5
}
