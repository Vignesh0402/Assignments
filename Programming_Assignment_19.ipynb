{
 "cells": [
  {
   "cell_type": "raw",
   "id": "8e561899",
   "metadata": {},
   "source": [
    "Question1\n",
    "Create a function that takes a string and returns a string in which each character is repeated once. \n",
    "Examples \n",
    "double_char(\"String\") ➞ \"SSttrriinngg\" \n",
    "double_char(\"Hello World!\") ➞ \"HHeelllloo WWoorrlldd!!\" \n",
    "doublechar(\"1234!__\") ➞ \"11223344!!__ \""
   ]
  },
  {
   "cell_type": "code",
   "execution_count": 1,
   "id": "34d0a658",
   "metadata": {},
   "outputs": [],
   "source": [
    "def double_char(s):\n",
    "    try:\n",
    "        l = list(s)\n",
    "        for i in l:\n",
    "            print(i*2,end='')\n",
    "    except Exception as e:\n",
    "        print(\"This was a error message.\")"
   ]
  },
  {
   "cell_type": "code",
   "execution_count": 2,
   "id": "d3d548cb",
   "metadata": {},
   "outputs": [
    {
     "name": "stdout",
     "output_type": "stream",
     "text": [
      "SSttrriinngg"
     ]
    }
   ],
   "source": [
    "double_char(\"String\")"
   ]
  },
  {
   "cell_type": "code",
   "execution_count": 3,
   "id": "12aa80bd",
   "metadata": {},
   "outputs": [
    {
     "name": "stdout",
     "output_type": "stream",
     "text": [
      "HHeelllloo  WWoorrlldd!!"
     ]
    }
   ],
   "source": [
    "double_char(\"Hello World!\")"
   ]
  },
  {
   "cell_type": "code",
   "execution_count": 4,
   "id": "03230b53",
   "metadata": {},
   "outputs": [
    {
     "name": "stdout",
     "output_type": "stream",
     "text": [
      "11223344!!____"
     ]
    }
   ],
   "source": [
    "double_char(\"1234!__\")"
   ]
  },
  {
   "cell_type": "raw",
   "id": "8d5b3a36",
   "metadata": {},
   "source": [
    "Question2\n",
    "Create a function that reverses a boolean value and returns the string \"boolean expected\" if another variable type is given. \n",
    "Examples reverse(True) ➞ False \n",
    "reverse(False) ➞ True \n",
    "reverse(0) ➞ \"boolean expected\" \n",
    "reverse(None) ➞ \"boolean expected\""
   ]
  },
  {
   "cell_type": "code",
   "execution_count": 5,
   "id": "41bf828f",
   "metadata": {},
   "outputs": [],
   "source": [
    "def reverse(x):\n",
    "    try:\n",
    "        if type(x) == bool:\n",
    "            if x == True:\n",
    "                return False\n",
    "            else:\n",
    "                return True\n",
    "            \n",
    "        else:\n",
    "            return 'Boolean Expected'\n",
    "    except Exception as e:\n",
    "        print(\"This was a error message..\")"
   ]
  },
  {
   "cell_type": "code",
   "execution_count": 6,
   "id": "a6937ed4",
   "metadata": {},
   "outputs": [
    {
     "data": {
      "text/plain": [
       "False"
      ]
     },
     "execution_count": 6,
     "metadata": {},
     "output_type": "execute_result"
    }
   ],
   "source": [
    "reverse(True)"
   ]
  },
  {
   "cell_type": "code",
   "execution_count": 7,
   "id": "6ba95f11",
   "metadata": {},
   "outputs": [
    {
     "data": {
      "text/plain": [
       "True"
      ]
     },
     "execution_count": 7,
     "metadata": {},
     "output_type": "execute_result"
    }
   ],
   "source": [
    "reverse(False)"
   ]
  },
  {
   "cell_type": "code",
   "execution_count": 8,
   "id": "94955ce9",
   "metadata": {},
   "outputs": [
    {
     "data": {
      "text/plain": [
       "'Boolean Expected'"
      ]
     },
     "execution_count": 8,
     "metadata": {},
     "output_type": "execute_result"
    }
   ],
   "source": [
    "reverse(0)"
   ]
  },
  {
   "cell_type": "code",
   "execution_count": 9,
   "id": "26131f47",
   "metadata": {},
   "outputs": [
    {
     "data": {
      "text/plain": [
       "'Boolean Expected'"
      ]
     },
     "execution_count": 9,
     "metadata": {},
     "output_type": "execute_result"
    }
   ],
   "source": [
    "reverse(None)"
   ]
  },
  {
   "cell_type": "raw",
   "id": "7e839e68",
   "metadata": {},
   "source": [
    "Question3\n",
    "Create a function that returns the thickness (in meters) of a piece of paper after folding it n number of times. The paper starts off with a thickness of 0.5mm.\n",
    "Examples:\n",
    "num_layers(1) ➞ \"0.001m\" Paper folded once is 1mm (equal to 0.001m) num_layers(4) ➞ \"0.008m\" Paper folded 4 times is 8mm (equal to 0.008m) num_layers(21) ➞ \"1048.576m\" Paper folded 21 times is 1048576mm (equal to 1048.576m)"
   ]
  },
  {
   "cell_type": "code",
   "execution_count": 10,
   "id": "5ab46c0c",
   "metadata": {},
   "outputs": [],
   "source": [
    "def num_layers(n,original_thickness=0.5):\n",
    "    try:\n",
    "        final_thickness_in_mm= round(original_thickness*(2**n),3)\n",
    "        final_thickness_in_m = final_thickness_in_mm/1000\n",
    "        return 'Final thickness after folding '+str(n)+' times is '+str(final_thickness_in_mm)+' mm i.e. '+str(final_thickness_in_m)+' m.'\n",
    "    except Exception as e:\n",
    "        print('This was a error message : ',e)"
   ]
  },
  {
   "cell_type": "code",
   "execution_count": 11,
   "id": "f5c38b44",
   "metadata": {},
   "outputs": [
    {
     "data": {
      "text/plain": [
       "'Final thickness after folding 1 times is 1.0 mm i.e. 0.001 m.'"
      ]
     },
     "execution_count": 11,
     "metadata": {},
     "output_type": "execute_result"
    }
   ],
   "source": [
    "num_layers(1)"
   ]
  },
  {
   "cell_type": "code",
   "execution_count": 12,
   "id": "b9ba884c",
   "metadata": {},
   "outputs": [
    {
     "data": {
      "text/plain": [
       "'Final thickness after folding 4 times is 8.0 mm i.e. 0.008 m.'"
      ]
     },
     "execution_count": 12,
     "metadata": {},
     "output_type": "execute_result"
    }
   ],
   "source": [
    "num_layers(4)"
   ]
  },
  {
   "cell_type": "code",
   "execution_count": 13,
   "id": "6ebeb11d",
   "metadata": {},
   "outputs": [
    {
     "data": {
      "text/plain": [
       "'Final thickness after folding 21 times is 1048576.0 mm i.e. 1048.576 m.'"
      ]
     },
     "execution_count": 13,
     "metadata": {},
     "output_type": "execute_result"
    }
   ],
   "source": [
    "num_layers(21)"
   ]
  },
  {
   "cell_type": "raw",
   "id": "0ba202e5",
   "metadata": {},
   "source": [
    "Question4\n",
    "Create a function that takes a single string as argument and returns an ordered list containing the indices of all capital letters in the string.\n",
    "\n",
    "Examples:\n",
    "\n",
    "index_of_caps(\"eDaBiT\") ➞ [1, 3, 5] \n",
    "index_of_caps(\"eQuINoX\") ➞ [1, 3, 4, 6] \n",
    "index_of_caps(\"determine\") ➞ [] \n",
    "index_of_caps(\"STRIKE\") ➞ [0, 1, 2, 3, 4, 5] \n",
    "index_of_caps(\"sUn\") ➞ [1]"
   ]
  },
  {
   "cell_type": "code",
   "execution_count": 14,
   "id": "f5ef547d",
   "metadata": {},
   "outputs": [],
   "source": [
    "def index_of_caps(s):\n",
    "    try:\n",
    "        l=[]\n",
    "        for i in s:\n",
    "            if ord(i) in list(range(65,91)):\n",
    "                l.append(s.index(i))\n",
    "        return l\n",
    "    except Exception as e:\n",
    "        print('this is the error msg : ',e)"
   ]
  },
  {
   "cell_type": "code",
   "execution_count": 15,
   "id": "4f321987",
   "metadata": {},
   "outputs": [
    {
     "data": {
      "text/plain": [
       "[1, 3, 5]"
      ]
     },
     "execution_count": 15,
     "metadata": {},
     "output_type": "execute_result"
    }
   ],
   "source": [
    "index_of_caps(\"eDaBiT\")"
   ]
  },
  {
   "cell_type": "code",
   "execution_count": 16,
   "id": "3b217692",
   "metadata": {},
   "outputs": [
    {
     "data": {
      "text/plain": [
       "[1, 3, 4, 6]"
      ]
     },
     "execution_count": 16,
     "metadata": {},
     "output_type": "execute_result"
    }
   ],
   "source": [
    "index_of_caps(\"eQuINoX\")"
   ]
  },
  {
   "cell_type": "code",
   "execution_count": 17,
   "id": "9c875a06",
   "metadata": {},
   "outputs": [
    {
     "data": {
      "text/plain": [
       "[]"
      ]
     },
     "execution_count": 17,
     "metadata": {},
     "output_type": "execute_result"
    }
   ],
   "source": [
    "index_of_caps(\"determine\")"
   ]
  },
  {
   "cell_type": "code",
   "execution_count": 18,
   "id": "22c23641",
   "metadata": {},
   "outputs": [
    {
     "data": {
      "text/plain": [
       "[0, 1, 2, 3, 4, 5]"
      ]
     },
     "execution_count": 18,
     "metadata": {},
     "output_type": "execute_result"
    }
   ],
   "source": [
    "index_of_caps(\"STRIKE\")"
   ]
  },
  {
   "cell_type": "code",
   "execution_count": 19,
   "id": "2b2417e0",
   "metadata": {},
   "outputs": [
    {
     "data": {
      "text/plain": [
       "[1]"
      ]
     },
     "execution_count": 19,
     "metadata": {},
     "output_type": "execute_result"
    }
   ],
   "source": [
    "index_of_caps(\"sUn\")"
   ]
  },
  {
   "cell_type": "raw",
   "id": "6e10cd56",
   "metadata": {},
   "source": [
    "Question5\n",
    "Using list comprehensions, create a function that finds all even numbers from 1 to the given number.\n",
    "\n",
    "Examples:\n",
    "\n",
    "find_even_nums(8) ➞ [2, 4, 6, 8] \n",
    "find_even_nums(4) ➞ [2, 4] \n",
    "find_even_nums(2) ➞ [2]"
   ]
  },
  {
   "cell_type": "code",
   "execution_count": 20,
   "id": "9d05433a",
   "metadata": {},
   "outputs": [],
   "source": [
    "def find_even_nums(n):\n",
    "    try:\n",
    "        l=list(range(1,n+1))\n",
    "        return l[1::2]\n",
    "    except Exception as e:\n",
    "        print('this is the error msg : ',e)"
   ]
  },
  {
   "cell_type": "code",
   "execution_count": 21,
   "id": "cc3a1cfc",
   "metadata": {},
   "outputs": [
    {
     "data": {
      "text/plain": [
       "[2, 4, 6, 8]"
      ]
     },
     "execution_count": 21,
     "metadata": {},
     "output_type": "execute_result"
    }
   ],
   "source": [
    "find_even_nums(8)"
   ]
  },
  {
   "cell_type": "code",
   "execution_count": 22,
   "id": "226fb0ec",
   "metadata": {},
   "outputs": [
    {
     "data": {
      "text/plain": [
       "[2, 4]"
      ]
     },
     "execution_count": 22,
     "metadata": {},
     "output_type": "execute_result"
    }
   ],
   "source": [
    "find_even_nums(4)"
   ]
  },
  {
   "cell_type": "code",
   "execution_count": 23,
   "id": "936f1bd6",
   "metadata": {},
   "outputs": [
    {
     "data": {
      "text/plain": [
       "[2]"
      ]
     },
     "execution_count": 23,
     "metadata": {},
     "output_type": "execute_result"
    }
   ],
   "source": [
    "find_even_nums(2)"
   ]
  }
 ],
 "metadata": {
  "kernelspec": {
   "display_name": "Python 3 (ipykernel)",
   "language": "python",
   "name": "python3"
  },
  "language_info": {
   "codemirror_mode": {
    "name": "ipython",
    "version": 3
   },
   "file_extension": ".py",
   "mimetype": "text/x-python",
   "name": "python",
   "nbconvert_exporter": "python",
   "pygments_lexer": "ipython3",
   "version": "3.9.12"
  }
 },
 "nbformat": 4,
 "nbformat_minor": 5
}
