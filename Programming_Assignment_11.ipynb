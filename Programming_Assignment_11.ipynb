{
 "cells": [
  {
   "cell_type": "code",
   "execution_count": 1,
   "id": "7014edf6",
   "metadata": {},
   "outputs": [
    {
     "name": "stdout",
     "output_type": "stream",
     "text": [
      "Enter the value of k = 4\n",
      "Write\n",
      "Python\n",
      "program\n",
      "words\n",
      "which\n",
      "greater\n",
      "given\n",
      "length\n"
     ]
    }
   ],
   "source": [
    "#Q1. Write a Python program to find words which are greater than given length k?\n",
    "\n",
    "# Lets assume the given question as string\n",
    "s = \"Write a Python program to find words which are greater than given length k\"\n",
    "l = list(s.split(' '))\n",
    "k = int(input(\"Enter the value of k = \"))\n",
    "for i in l:\n",
    "    if len(i)>k:\n",
    "        print(i)"
   ]
  },
  {
   "cell_type": "code",
   "execution_count": 2,
   "id": "6ba0ed8a",
   "metadata": {},
   "outputs": [
    {
     "name": "stdout",
     "output_type": "stream",
     "text": [
      "Enter the value of k =3\n",
      "Write a Python program to find words which are greater than given length k \n",
      "  Write a Python to find words which are greater than given length k\n"
     ]
    }
   ],
   "source": [
    "#Q2. Write a Python program for removing i-th character from a string?\n",
    "\n",
    "l = list(s.split(' '))\n",
    "k = int(input('Enter the value of k ='))\n",
    "l.remove(l[k])\n",
    "s1 = ''\n",
    "for i in l:\n",
    "    s1 = s1+' '+str(i)\n",
    "print(s,'\\n',s1)"
   ]
  },
  {
   "cell_type": "code",
   "execution_count": 3,
   "id": "85dafbe1",
   "metadata": {},
   "outputs": [
    {
     "name": "stdout",
     "output_type": "stream",
     "text": [
      "Orginal String :\n",
      " Write a Python program to find words which are greater than given length k\n",
      "\n",
      " Splited String :\n",
      " ['Write', 'a', 'Python', 'program', 'to', 'find', 'words', 'which', 'are', 'greater', 'than', 'given', 'length', 'k']\n",
      "\n",
      " Joined string : \n",
      "  Write a Python program to find words which are greater than given length k\n"
     ]
    }
   ],
   "source": [
    "#Q3. Write a Python program to split and join a string?\n",
    "\n",
    "def split_str(s):\n",
    "    s1 = ''\n",
    "    l = []\n",
    "    for i in s:\n",
    "        if i == ' ':\n",
    "            l.append(s1)\n",
    "            s1 =''\n",
    "        else:\n",
    "            s1+=i\n",
    "    l.append(s1)\n",
    "    return l\n",
    "\n",
    "def join_str(l):\n",
    "    s =''\n",
    "    for i in l:\n",
    "        s+=' '+i\n",
    "    return s\n",
    "\n",
    "s = \"Write a Python program to find words which are greater than given length k\"\n",
    "print(\"Orginal String :\\n\",s)\n",
    "print(\"\\n Splited String :\\n\",split_str(s))\n",
    "l = split_str(s)\n",
    "print(\"\\n Joined string : \\n\",join_str(l))"
   ]
  },
  {
   "cell_type": "code",
   "execution_count": 4,
   "id": "08606f38",
   "metadata": {},
   "outputs": [],
   "source": [
    "#Q4. Write a Python to check if a given string is binary string or not?\n",
    "\n",
    "def isbinary_str(s):\n",
    "    x=set(s)\n",
    "    if x=={'0'} or x=={'1'} or x=={'0','1'}:\n",
    "        return True\n",
    "    else :\n",
    "        return False"
   ]
  },
  {
   "cell_type": "code",
   "execution_count": 5,
   "id": "a27e18e3",
   "metadata": {},
   "outputs": [
    {
     "data": {
      "text/plain": [
       "True"
      ]
     },
     "execution_count": 5,
     "metadata": {},
     "output_type": "execute_result"
    }
   ],
   "source": [
    "s  = '01101010'\n",
    "isbinary_str(s)"
   ]
  },
  {
   "cell_type": "code",
   "execution_count": 6,
   "id": "3101ab4d",
   "metadata": {},
   "outputs": [
    {
     "data": {
      "text/plain": [
       "False"
      ]
     },
     "execution_count": 6,
     "metadata": {},
     "output_type": "execute_result"
    }
   ],
   "source": [
    "s = 'hello00101'\n",
    "isbinary_str(s)"
   ]
  },
  {
   "cell_type": "code",
   "execution_count": 7,
   "id": "a45f8888",
   "metadata": {},
   "outputs": [
    {
     "data": {
      "text/plain": [
       "(['write', 'a', 'python', 'program', 'to', 'display', 'in', 'capital'],\n",
       " ['what', 'is', '?'])"
      ]
     },
     "execution_count": 7,
     "metadata": {},
     "output_type": "execute_result"
    }
   ],
   "source": [
    "#Q5. Write a Python program to find uncommon words from two Strings?\n",
    "\n",
    "def uncommon_words(s1,s2):\n",
    "    l1=split_str(s1.lower())\n",
    "    l2=split_str(s2.lower())\n",
    "    l3=[]\n",
    "    l4=[]\n",
    "    for i in l1:\n",
    "        if i not in l2 :\n",
    "            l3.append(i)\n",
    "    for j in l2:\n",
    "        if j not in l1:\n",
    "            l4.append(j)\n",
    "    return l3,l4\n",
    "\n",
    "s1='Write a Python program to display your name in capital'\n",
    "s2='what is your name ?'\n",
    "uncommon_words(s1,s2)"
   ]
  },
  {
   "cell_type": "code",
   "execution_count": 8,
   "id": "689c906a",
   "metadata": {},
   "outputs": [
    {
     "data": {
      "text/plain": [
       "['your', 'name']"
      ]
     },
     "execution_count": 8,
     "metadata": {},
     "output_type": "execute_result"
    }
   ],
   "source": [
    "#Q6. Write a Python to find all duplicate characters in string?\n",
    "def common_words(s1,s2):\n",
    "    l=[]\n",
    "    for i in s1.lower().split():\n",
    "        for j in s2.lower().split():\n",
    "            if i==j:\n",
    "                l.append(i)\n",
    "    return l\n",
    "common_words(s1,s2)"
   ]
  },
  {
   "cell_type": "code",
   "execution_count": 9,
   "id": "be536fca",
   "metadata": {},
   "outputs": [
    {
     "data": {
      "text/plain": [
       "'Yes'"
      ]
     },
     "execution_count": 9,
     "metadata": {},
     "output_type": "execute_result"
    }
   ],
   "source": [
    "#Q7. Write a Python Program to check if a string contains any special character?\n",
    "\n",
    "def checck_for_special_chr(s):\n",
    "    special_chr='@#$&%!~'\n",
    "    for i in s:\n",
    "        if i in special_chr :\n",
    "            return 'Yes'\n",
    "    return 'No'\n",
    "checck_for_special_chr('hello@ineuron@ai#amazing$')"
   ]
  },
  {
   "cell_type": "code",
   "execution_count": 10,
   "id": "3f240406",
   "metadata": {},
   "outputs": [
    {
     "data": {
      "text/plain": [
       "'No'"
      ]
     },
     "execution_count": 10,
     "metadata": {},
     "output_type": "execute_result"
    }
   ],
   "source": [
    "checck_for_special_chr('hello')"
   ]
  }
 ],
 "metadata": {
  "kernelspec": {
   "display_name": "Python 3 (ipykernel)",
   "language": "python",
   "name": "python3"
  },
  "language_info": {
   "codemirror_mode": {
    "name": "ipython",
    "version": 3
   },
   "file_extension": ".py",
   "mimetype": "text/x-python",
   "name": "python",
   "nbconvert_exporter": "python",
   "pygments_lexer": "ipython3",
   "version": "3.9.12"
  }
 },
 "nbformat": 4,
 "nbformat_minor": 5
}
