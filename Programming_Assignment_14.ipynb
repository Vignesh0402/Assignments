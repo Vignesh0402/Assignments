{
 "cells": [
  {
   "cell_type": "raw",
   "id": "286fe9af",
   "metadata": {},
   "source": [
    "Q1.Define a class with a generator which can iterate the numbers, which are divisible by 7, between a given range 0 and n."
   ]
  },
  {
   "cell_type": "code",
   "execution_count": 1,
   "id": "b8d706bf",
   "metadata": {},
   "outputs": [],
   "source": [
    "def divby7(s,n):\n",
    "    for i in range(s,n+1):\n",
    "        if i % 7 == 0:\n",
    "            yield i"
   ]
  },
  {
   "cell_type": "code",
   "execution_count": 2,
   "id": "a1cbdee3",
   "metadata": {},
   "outputs": [
    {
     "data": {
      "text/plain": [
       "<generator object divby7 at 0x00000215BFCA9AC0>"
      ]
     },
     "execution_count": 2,
     "metadata": {},
     "output_type": "execute_result"
    }
   ],
   "source": [
    "divby7(1,100)"
   ]
  },
  {
   "cell_type": "code",
   "execution_count": 3,
   "id": "f8afec7f",
   "metadata": {},
   "outputs": [
    {
     "data": {
      "text/plain": [
       "[7, 14, 21, 28, 35, 42, 49, 56, 63, 70, 77, 84, 91, 98]"
      ]
     },
     "execution_count": 3,
     "metadata": {},
     "output_type": "execute_result"
    }
   ],
   "source": [
    "list(divby7(1,100))"
   ]
  },
  {
   "cell_type": "raw",
   "id": "cbd5ad1f",
   "metadata": {},
   "source": [
    "Q2: Write a program to compute the frequency of the words from the input. The output should output after sorting the key alphanumerically. Suppose the following input is supplied to the program: New to Python or choosing between Python 2 and Python 3? Read Python 2 or Python 3. Then, the output should be: 2:2 3.:1 3?:1 New:1 Python:5 Read:1 and:1 between:1 choosing:1 or:2 to:1"
   ]
  },
  {
   "cell_type": "code",
   "execution_count": 4,
   "id": "47871b66",
   "metadata": {},
   "outputs": [
    {
     "name": "stdout",
     "output_type": "stream",
     "text": [
      "Enter the line :New to Python or choosing between Python 2 and Python 3? Read Python 2 or Python 3.\n",
      "2  :  2\n",
      "3.  :  1\n",
      "3?  :  1\n",
      "New  :  1\n",
      "Python  :  5\n",
      "Read  :  1\n",
      "and  :  1\n",
      "between  :  1\n",
      "choosing  :  1\n",
      "or  :  2\n",
      "to  :  1\n"
     ]
    }
   ],
   "source": [
    "l = list(input(\"Enter the line :\").split(' '))\n",
    "s = list(set(l))\n",
    "s.sort()\n",
    "for i in s:\n",
    "    print(i,' : ',l.count(i))"
   ]
  },
  {
   "cell_type": "raw",
   "id": "cafedb34",
   "metadata": {},
   "source": [
    "Q3:Define a class Person and its two child classes: Male and Female. All classes have a method \"getGender\" which can print \"Male\" for Male class and \"Female\" for Female class."
   ]
  },
  {
   "cell_type": "code",
   "execution_count": 5,
   "id": "ca1c93f4",
   "metadata": {},
   "outputs": [
    {
     "name": "stdout",
     "output_type": "stream",
     "text": [
      "Male\n",
      "Female\n"
     ]
    }
   ],
   "source": [
    "class person(object):\n",
    "    def get_gender(self):\n",
    "        return \"Unknown\"\n",
    "    \n",
    "class Male(person):\n",
    "    def get_gender(self):\n",
    "        return \"Male\"\n",
    "    \n",
    "class Female(person):\n",
    "    def get_gender(self):\n",
    "        return \"Female\"\n",
    "    \n",
    "aMale = Male()\n",
    "aFemale = Female()\n",
    "print(aMale.get_gender())\n",
    "print(aFemale.get_gender())"
   ]
  },
  {
   "cell_type": "raw",
   "id": "2cc88d28",
   "metadata": {},
   "source": [
    "Q4: Please write a program to generate all sentences where subject is in [\"I\", \"You\"] and verb is in [\"Play\", \"Love\"] and the object is in [\"Hockey\",\"Football\"].\n",
    "\n",
    "l1= [\"I\", \"You\"] "
   ]
  },
  {
   "cell_type": "code",
   "execution_count": 6,
   "id": "0ce1da37",
   "metadata": {},
   "outputs": [
    {
     "name": "stdout",
     "output_type": "stream",
     "text": [
      "I - Play - Hockey\n",
      "I - Play - Football\n",
      "I - Love - Hockey\n",
      "I - Love - Football\n",
      "You - Play - Hockey\n",
      "You - Play - Football\n",
      "You - Love - Hockey\n",
      "You - Love - Football\n"
     ]
    }
   ],
   "source": [
    "l1 = [\"I\", \"You\"]\n",
    "l2 = [\"Play\", \"Love\"]\n",
    "l3 = [\"Hockey\", \"Football\"]\n",
    "for i in l1:\n",
    "    for j in l2:\n",
    "        for k in l3:\n",
    "            print(i,'-',j,'-',k)"
   ]
  },
  {
   "cell_type": "raw",
   "id": "66022839",
   "metadata": {},
   "source": [
    "Q5: Please write a program to compress and decompress the string \"hello world!hello world!hello world!hello world!\"."
   ]
  },
  {
   "cell_type": "code",
   "execution_count": 7,
   "id": "3e4fa44c",
   "metadata": {},
   "outputs": [
    {
     "name": "stdout",
     "output_type": "stream",
     "text": [
      "orginal.text : b'hello world!hello world!hello world!hello world!' \n",
      " length : 48\n",
      "\n",
      " Compressed : b'x\\x9c\\xcbH\\xcd\\xc9\\xc9W(\\xcf/\\xcaIQ\\xcc \\x82\\r\\x00\\xbd[\\x11\\xf5' \n",
      " length : 23\n",
      "\n",
      " Decompressed : b'hello world!hello world!hello world!hello world!' \n",
      "Length : 48\n"
     ]
    }
   ],
   "source": [
    "import zlib\n",
    "text = b\"hello world!hello world!hello world!hello world!\"\n",
    "print('orginal.text :',text,'\\n length :', len(text))\n",
    "comp = zlib.compress(text)\n",
    "print('\\n Compressed :',comp,'\\n length :',len(comp))\n",
    "decomp = zlib.decompress(comp)\n",
    "print('\\n Decompressed :',decomp,'\\nLength :',len(decomp))"
   ]
  },
  {
   "cell_type": "raw",
   "id": "2e528d32",
   "metadata": {},
   "source": [
    "Question 6: Please write a binary search function which searches an item in a sorted list. The function should return the index of element to be searched in the list."
   ]
  },
  {
   "cell_type": "code",
   "execution_count": 8,
   "id": "5a0b5c10",
   "metadata": {},
   "outputs": [
    {
     "name": "stdout",
     "output_type": "stream",
     "text": [
      "Enter the element you want to search : \n",
      "India\n"
     ]
    },
    {
     "data": {
      "text/plain": [
       "8"
      ]
     },
     "execution_count": 8,
     "metadata": {},
     "output_type": "execute_result"
    }
   ],
   "source": [
    "def search_index(x,l):\n",
    "    for i in l:\n",
    "        if i == x:\n",
    "            index=l.index(i)\n",
    "            return index\n",
    "    return 'Not found'\n",
    "l=[1,2,3,4,5,6,6,7,'India','China','Japan']\n",
    "x =input(\"Enter the element you want to search : \\n\")\n",
    "search_index(x,l)"
   ]
  }
 ],
 "metadata": {
  "kernelspec": {
   "display_name": "Python 3 (ipykernel)",
   "language": "python",
   "name": "python3"
  },
  "language_info": {
   "codemirror_mode": {
    "name": "ipython",
    "version": 3
   },
   "file_extension": ".py",
   "mimetype": "text/x-python",
   "name": "python",
   "nbconvert_exporter": "python",
   "pygments_lexer": "ipython3",
   "version": "3.9.12"
  }
 },
 "nbformat": 4,
 "nbformat_minor": 5
}
