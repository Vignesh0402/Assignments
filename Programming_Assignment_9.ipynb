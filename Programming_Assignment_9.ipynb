{
 "cells": [
  {
   "cell_type": "code",
   "execution_count": 1,
   "id": "2ef29c32",
   "metadata": {},
   "outputs": [],
   "source": [
    "#Q1.Write a Python program to check if the given number is a Disarium Number?\n",
    "\n",
    "def count_digit(n):\n",
    "    # to find the count of the input\n",
    "    count = 0\n",
    "    x = n \n",
    "    while x!= 0:\n",
    "        x = x//10\n",
    "        count += 1\n",
    "    return count     \n",
    "\n",
    "def check_disarium_num(n):\n",
    "    m = count_digit(n)\n",
    "    x = n\n",
    "    s = 0\n",
    "    while x != 0:\n",
    "        s += (x%10)**m\n",
    "        m -= 1 \n",
    "        x = x//10\n",
    "    if s==n:\n",
    "        return True\n",
    "    else:\n",
    "        return False"
   ]
  },
  {
   "cell_type": "code",
   "execution_count": 2,
   "id": "e3af4952",
   "metadata": {},
   "outputs": [
    {
     "data": {
      "text/plain": [
       "True"
      ]
     },
     "execution_count": 2,
     "metadata": {},
     "output_type": "execute_result"
    }
   ],
   "source": [
    "check_disarium_num(89)\n",
    "# pow(8**1)+ pow(9**2) = given number(n) = 89"
   ]
  },
  {
   "cell_type": "code",
   "execution_count": 3,
   "id": "0e759319",
   "metadata": {},
   "outputs": [
    {
     "data": {
      "text/plain": [
       "False"
      ]
     },
     "execution_count": 3,
     "metadata": {},
     "output_type": "execute_result"
    }
   ],
   "source": [
    "check_disarium_num(129)\n",
    "# pow(1**1)+ pow(2**2)+ pow(9**3) != given number so it is not a disarium number"
   ]
  },
  {
   "cell_type": "code",
   "execution_count": 4,
   "id": "c09df2f1",
   "metadata": {},
   "outputs": [
    {
     "name": "stdout",
     "output_type": "stream",
     "text": [
      "All disarium numbers between 1 to 100 :\n",
      "  1\n",
      "  2\n",
      "  3\n",
      "  4\n",
      "  5\n",
      "  6\n",
      "  7\n",
      "  8\n",
      "  9\n",
      "  89\n"
     ]
    }
   ],
   "source": [
    "#2.Write a Python program to print all disarium numbers between 1 to 100?\n",
    "\n",
    "print(\"All disarium numbers between 1 to 100 :\")\n",
    "for i in range(1,101):\n",
    "    if check_disarium_num(i) == True :\n",
    "        print(' ',i)"
   ]
  },
  {
   "cell_type": "code",
   "execution_count": 5,
   "id": "6ab65ced",
   "metadata": {},
   "outputs": [],
   "source": [
    "#Q3. Write a Python program to check if the given number is Happy Number?\n",
    "\n",
    "def square_sum(n):\n",
    "    s = 0\n",
    "    while n > 0:\n",
    "        r = n% 10\n",
    "        s += r*r\n",
    "        n = n//10\n",
    "    return s\n",
    "\n",
    "def check_happy_number(n):\n",
    "        x=n\n",
    "        a=[]\n",
    "        while n!=1 :\n",
    "            s=square_sum(n) \n",
    "            if s==1 :\n",
    "                return True\n",
    "            elif s in a:\n",
    "                return False\n",
    "            else :\n",
    "                a.append(s)\n",
    "                n = s"
   ]
  },
  {
   "cell_type": "code",
   "execution_count": 6,
   "id": "3da8e4e0",
   "metadata": {},
   "outputs": [
    {
     "data": {
      "text/plain": [
       "False"
      ]
     },
     "execution_count": 6,
     "metadata": {},
     "output_type": "execute_result"
    }
   ],
   "source": [
    "check_happy_number(25)"
   ]
  },
  {
   "cell_type": "code",
   "execution_count": 7,
   "id": "a63387ac",
   "metadata": {},
   "outputs": [
    {
     "data": {
      "text/plain": [
       "True"
      ]
     },
     "execution_count": 7,
     "metadata": {},
     "output_type": "execute_result"
    }
   ],
   "source": [
    "check_happy_number(19)"
   ]
  },
  {
   "cell_type": "code",
   "execution_count": 8,
   "id": "27c4a8a7",
   "metadata": {},
   "outputs": [
    {
     "name": "stdout",
     "output_type": "stream",
     "text": [
      "Happy numbers between 1 to 100:\n",
      "  7\n",
      "  10\n",
      "  13\n",
      "  19\n",
      "  23\n",
      "  28\n",
      "  31\n",
      "  32\n",
      "  44\n",
      "  49\n",
      "  68\n",
      "  70\n",
      "  79\n",
      "  82\n",
      "  86\n",
      "  91\n",
      "  94\n",
      "  97\n",
      "  100\n"
     ]
    }
   ],
   "source": [
    "#Q4. Write a Python program to print all happy numbers between 1 and 100?\n",
    "\n",
    "print(\"Happy numbers between 1 to 100:\")\n",
    "for i in range(101):\n",
    "    if check_happy_number(i) == True:\n",
    "        print(' ',i)"
   ]
  },
  {
   "cell_type": "code",
   "execution_count": 9,
   "id": "1d139fc1",
   "metadata": {},
   "outputs": [],
   "source": [
    "#Q5. Write a Python program to determine whether the given number is a Harshad Number?\n",
    "\n",
    "def sum_of_digits(n):\n",
    "    s = 0\n",
    "    while n > 0 :\n",
    "        s += (n% 10)\n",
    "        n = n // 10\n",
    "    return s\n",
    "\n",
    "def harshad_num(n):\n",
    "    if n % sum_of_digits(n) == 0:\n",
    "        return True\n",
    "    else:\n",
    "        return False\n",
    "    "
   ]
  },
  {
   "cell_type": "code",
   "execution_count": 10,
   "id": "7b1dd87e",
   "metadata": {},
   "outputs": [
    {
     "data": {
      "text/plain": [
       "True"
      ]
     },
     "execution_count": 10,
     "metadata": {},
     "output_type": "execute_result"
    }
   ],
   "source": [
    "harshad_num(111)"
   ]
  },
  {
   "cell_type": "code",
   "execution_count": 11,
   "id": "12149590",
   "metadata": {},
   "outputs": [
    {
     "data": {
      "text/plain": [
       "True"
      ]
     },
     "execution_count": 11,
     "metadata": {},
     "output_type": "execute_result"
    }
   ],
   "source": [
    "harshad_num(42)"
   ]
  },
  {
   "cell_type": "code",
   "execution_count": 12,
   "id": "a1a19a8d",
   "metadata": {},
   "outputs": [
    {
     "data": {
      "text/plain": [
       "True"
      ]
     },
     "execution_count": 12,
     "metadata": {},
     "output_type": "execute_result"
    }
   ],
   "source": [
    "harshad_num(72)"
   ]
  },
  {
   "cell_type": "code",
   "execution_count": 13,
   "id": "d7f13848",
   "metadata": {},
   "outputs": [
    {
     "name": "stdout",
     "output_type": "stream",
     "text": [
      "Harshad numbers between 1 to 100:\n",
      "  1\n",
      "  2\n",
      "  3\n",
      "  4\n",
      "  5\n",
      "  6\n",
      "  7\n",
      "  8\n",
      "  9\n",
      "  10\n",
      "  12\n",
      "  18\n",
      "  20\n",
      "  21\n",
      "  24\n",
      "  27\n",
      "  30\n",
      "  36\n",
      "  40\n",
      "  42\n",
      "  45\n",
      "  48\n",
      "  50\n",
      "  54\n",
      "  60\n",
      "  63\n",
      "  70\n",
      "  72\n",
      "  80\n",
      "  81\n",
      "  84\n",
      "  90\n",
      "  100\n"
     ]
    }
   ],
   "source": [
    "# Q6. Write a Python program to print all pronic numbers between 1 and 100?\n",
    "\n",
    "print(\"Harshad numbers between 1 to 100:\")\n",
    "for i in range(1,101):\n",
    "    if harshad_num(i) == True:\n",
    "        print(' ',i)"
   ]
  }
 ],
 "metadata": {
  "kernelspec": {
   "display_name": "Python 3 (ipykernel)",
   "language": "python",
   "name": "python3"
  },
  "language_info": {
   "codemirror_mode": {
    "name": "ipython",
    "version": 3
   },
   "file_extension": ".py",
   "mimetype": "text/x-python",
   "name": "python",
   "nbconvert_exporter": "python",
   "pygments_lexer": "ipython3",
   "version": "3.9.12"
  }
 },
 "nbformat": 4,
 "nbformat_minor": 5
}
