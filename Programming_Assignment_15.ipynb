{
 "cells": [
  {
   "cell_type": "markdown",
   "id": "8e8785ed",
   "metadata": {},
   "source": [
    "Question 1:\n",
    "Please write a program using generator to print the numbers which can be divisible by 5 and 7 between 0 and n in comma separated form while n is input by console.\n",
    "Example:\n",
    "If the following n is given as input to the program:\n",
    "100\n",
    "Then, the output of the program should be:\n",
    "0,35,70"
   ]
  },
  {
   "cell_type": "code",
   "execution_count": 1,
   "id": "e8ad831b",
   "metadata": {},
   "outputs": [],
   "source": [
    "def divby5and7(a,b):\n",
    "    for i in range(a,b+1):\n",
    "        if i% 5==0 and i%7 == 0:\n",
    "            yield i"
   ]
  },
  {
   "cell_type": "code",
   "execution_count": 2,
   "id": "a27fab0e",
   "metadata": {},
   "outputs": [
    {
     "name": "stdout",
     "output_type": "stream",
     "text": [
      "[0, 35, 70, 105, 140]\n"
     ]
    }
   ],
   "source": [
    "print(list(divby5and7(0,150)))"
   ]
  },
  {
   "cell_type": "markdown",
   "id": "5eb90819",
   "metadata": {},
   "source": [
    "Question 2:\n",
    "Please write a program using generator to print the even numbers between 0 and n in comma separated form while n is input by console.\n",
    "Example:\n",
    "If the following n is given as input to the program:\n",
    "10\n",
    "Then, the output of the program should be:\n",
    "0,2,4,6,8,10"
   ]
  },
  {
   "cell_type": "code",
   "execution_count": 3,
   "id": "ee8cdc1d",
   "metadata": {},
   "outputs": [],
   "source": [
    "def even(a,n):\n",
    "    for i in range(a,n+1):\n",
    "        if i%2 ==0 :\n",
    "            yield i"
   ]
  },
  {
   "cell_type": "code",
   "execution_count": 4,
   "id": "f8791204",
   "metadata": {},
   "outputs": [
    {
     "name": "stdout",
     "output_type": "stream",
     "text": [
      "0,2,4,6,8,10,"
     ]
    }
   ],
   "source": [
    "for i in list(even(0,10)):\n",
    "    print(i, end=',')"
   ]
  },
  {
   "cell_type": "markdown",
   "id": "825b540a",
   "metadata": {},
   "source": [
    "Question 3:\n",
    "The Fibonacci Sequence is computed based on the following formula:\n",
    "f(n)=0 if n=0\n",
    "f(n)=1 if n=1\n",
    "f(n)=f(n-1)+f(n-2) if n>1\n",
    "Please write a program using list comprehension to print the Fibonacci Sequence in comma separated form with a given n input by console.\n",
    "Example:\n",
    "If the following n is given as input to the program:\n",
    "7\n",
    "Then, the output of the program should be:\n",
    "0,1,1,2,3,5,8,13"
   ]
  },
  {
   "cell_type": "code",
   "execution_count": 5,
   "id": "6721e7b0",
   "metadata": {},
   "outputs": [],
   "source": [
    "def getFibo(n):\n",
    "    a,b = 0,1\n",
    "    for i in range(n+1):\n",
    "        yield a \n",
    "        a, b = b,a+b"
   ]
  },
  {
   "cell_type": "code",
   "execution_count": 6,
   "id": "f896dc9a",
   "metadata": {},
   "outputs": [
    {
     "name": "stdout",
     "output_type": "stream",
     "text": [
      "Enter a number to find Fibonacci : 7\n",
      "[0, 1, 1, 2, 3, 5, 8, 13]\n"
     ]
    }
   ],
   "source": [
    "n = int(input(\"Enter a number to find Fibonacci : \"))\n",
    "print(list(getFibo(n)))"
   ]
  },
  {
   "cell_type": "markdown",
   "id": "8429d7bc",
   "metadata": {},
   "source": [
    "Question 4:\n",
    "Assuming that we have some email addresses in the \"username@companyname.com\" format, please write program to print the user name of a given email address. Both user names and company names are composed of letters only.\n",
    "Example:john@google.com\n",
    "If the following email address is given as input to the program:\n",
    "\n",
    "Then, the output of the program should be:\n",
    "john"
   ]
  },
  {
   "cell_type": "code",
   "execution_count": 7,
   "id": "88146234",
   "metadata": {},
   "outputs": [
    {
     "name": "stdout",
     "output_type": "stream",
     "text": [
      "Enter your companny mail id in username@companyname.com :john@google.com\n",
      "john\n"
     ]
    }
   ],
   "source": [
    "email = input(\"Enter your companny mail id in username@companyname.com :\")\n",
    "l = list(email.split('@'))\n",
    "print(l[0])"
   ]
  },
  {
   "cell_type": "markdown",
   "id": "9888ec97",
   "metadata": {},
   "source": [
    "Question 5:\n",
    "Define a class named Shape and its subclass Square. The Square class has an init function which takes a length as argument. Both classes have a area function which can print the area of the shape where Shape's area is 0 by default."
   ]
  },
  {
   "cell_type": "code",
   "execution_count": 8,
   "id": "b28cc200",
   "metadata": {},
   "outputs": [],
   "source": [
    "class shape:\n",
    "    \n",
    "    def __init__(self):\n",
    "        pass\n",
    "    def area(self):\n",
    "        return 0\n",
    "    \n",
    "class square(shape):\n",
    "    \n",
    "    def __init__(self, length = 0):\n",
    "        self.length = length\n",
    "    \n",
    "    def area(self):\n",
    "        try:\n",
    "            area = (self.length)**2\n",
    "            print(\"Area of the square with side \", self.length,' = ',area) \n",
    "        except Exception as e:\n",
    "            print(e)"
   ]
  },
  {
   "cell_type": "code",
   "execution_count": 9,
   "id": "b64bf6ac",
   "metadata": {},
   "outputs": [
    {
     "name": "stdout",
     "output_type": "stream",
     "text": [
      "Area of the square with side  12  =  144\n"
     ]
    }
   ],
   "source": [
    "squareof12 = square(12)\n",
    "squareof12.area()"
   ]
  },
  {
   "cell_type": "code",
   "execution_count": 10,
   "id": "ef465937",
   "metadata": {},
   "outputs": [
    {
     "name": "stdout",
     "output_type": "stream",
     "text": [
      "Area of the square with side  15  =  225\n"
     ]
    }
   ],
   "source": [
    "square(15).area()"
   ]
  }
 ],
 "metadata": {
  "kernelspec": {
   "display_name": "Python 3 (ipykernel)",
   "language": "python",
   "name": "python3"
  },
  "language_info": {
   "codemirror_mode": {
    "name": "ipython",
    "version": 3
   },
   "file_extension": ".py",
   "mimetype": "text/x-python",
   "name": "python",
   "nbconvert_exporter": "python",
   "pygments_lexer": "ipython3",
   "version": "3.9.12"
  }
 },
 "nbformat": 4,
 "nbformat_minor": 5
}
