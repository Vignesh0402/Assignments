{
 "cells": [
  {
   "cell_type": "markdown",
   "id": "5bdbddcc",
   "metadata": {},
   "source": [
    "Question1. \n",
    "Create a function that takes three arguments a, b, c and returns the sum of the numbers that are evenly divided by c from the range a, b inclusive.\n",
    "Examples \n",
    "evenly_divisible(1, 10, 20) ➞ 0 No number between 1 and 10 can be evenly divided by 20. evenly_divisible(1, 10, 2) ➞ 30 2 + 4 + 6 + 8 + 10 = 30 evenly_divisible(1, 10, 3) ➞ 18 3 + 6 + 9 = 18"
   ]
  },
  {
   "cell_type": "code",
   "execution_count": 1,
   "id": "8dd6d36a",
   "metadata": {},
   "outputs": [],
   "source": [
    "def find_mul_and_sum(a,b,c):\n",
    "    '''This function returns all the multiples of c in the range of a to b'''\n",
    "    try :\n",
    "        count,sum=0,0\n",
    "        l=[]\n",
    "        for i in range(a,b+1):\n",
    "            if i%c == 0:\n",
    "                count+=1\n",
    "                l.append(i)\n",
    "                sum+=i\n",
    "        print('number of multiples of ',c,' in between ',a,' and ',b,' are ',count)\n",
    "        if count>0:\n",
    "            print('All those multiples are : ',l)\n",
    "            print('Sum of all those multiples = ',sum)\n",
    "    except Exception as e:\n",
    "        print('Error message is given : ',e)"
   ]
  },
  {
   "cell_type": "code",
   "execution_count": 2,
   "id": "1f7607e2",
   "metadata": {},
   "outputs": [
    {
     "name": "stdout",
     "output_type": "stream",
     "text": [
      "number of multiples of  20  in between  1  and  10  are  0\n"
     ]
    }
   ],
   "source": [
    "find_mul_and_sum(1,10,20)"
   ]
  },
  {
   "cell_type": "code",
   "execution_count": 3,
   "id": "155b1bd1",
   "metadata": {},
   "outputs": [
    {
     "name": "stdout",
     "output_type": "stream",
     "text": [
      "number of multiples of  2  in between  1  and  10  are  5\n",
      "All those multiples are :  [2, 4, 6, 8, 10]\n",
      "Sum of all those multiples =  30\n"
     ]
    }
   ],
   "source": [
    "find_mul_and_sum(1,10,2)"
   ]
  },
  {
   "cell_type": "code",
   "execution_count": 4,
   "id": "f5dc01f9",
   "metadata": {},
   "outputs": [
    {
     "name": "stdout",
     "output_type": "stream",
     "text": [
      "number of multiples of  3  in between  1  and  10  are  3\n",
      "All those multiples are :  [3, 6, 9]\n",
      "Sum of all those multiples =  18\n"
     ]
    }
   ],
   "source": [
    "find_mul_and_sum(1,10,3)"
   ]
  },
  {
   "cell_type": "markdown",
   "id": "3d6acdb5",
   "metadata": {},
   "source": [
    "Question2. \n",
    "Create a function that returns True if a given inequality expression is correct and False otherwise.\n",
    "Examples \n",
    "correct_signs(\"3 < 7 < 11\") ➞ True \n",
    "correct_signs(\"13 > 44 > 33 > 1\") ➞ False \n",
    "correct_signs(\"1 < 2 < 6 < 9 > 3\") ➞ True"
   ]
  },
  {
   "cell_type": "code",
   "execution_count": 5,
   "id": "555db759",
   "metadata": {},
   "outputs": [],
   "source": [
    "def check_inequ_exp(s):\n",
    "    try:    \n",
    "        l=list(s.split(' '))\n",
    "        for i in range(0,len(l)-2,2):\n",
    "            if l[i+1]=='>':    \n",
    "                if int(l[i]) < int(l[i+2]) :\n",
    "                    return False\n",
    "            if l[i+1]=='<':\n",
    "                if int(l[i]) > int(l[i+2]):\n",
    "                    return False\n",
    "        return True\n",
    "    except Exception as e :\n",
    "        print(\"This is a error message :\",e)"
   ]
  },
  {
   "cell_type": "code",
   "execution_count": 6,
   "id": "073b8999",
   "metadata": {},
   "outputs": [
    {
     "data": {
      "text/plain": [
       "True"
      ]
     },
     "execution_count": 6,
     "metadata": {},
     "output_type": "execute_result"
    }
   ],
   "source": [
    "check_inequ_exp('3 < 7 < 11')"
   ]
  },
  {
   "cell_type": "code",
   "execution_count": 7,
   "id": "69fd6b51",
   "metadata": {},
   "outputs": [
    {
     "data": {
      "text/plain": [
       "False"
      ]
     },
     "execution_count": 7,
     "metadata": {},
     "output_type": "execute_result"
    }
   ],
   "source": [
    "check_inequ_exp(\"13 > 44 > 33 > 1\")"
   ]
  },
  {
   "cell_type": "code",
   "execution_count": 8,
   "id": "0b395958",
   "metadata": {},
   "outputs": [
    {
     "data": {
      "text/plain": [
       "True"
      ]
     },
     "execution_count": 8,
     "metadata": {},
     "output_type": "execute_result"
    }
   ],
   "source": [
    "check_inequ_exp(\"1 < 2 < 6 < 9 > 3\")"
   ]
  },
  {
   "cell_type": "markdown",
   "id": "74838da1",
   "metadata": {},
   "source": [
    "Question3. \n",
    "Create a function that replaces all the vowels in a string with a specified character.\n",
    "Examples \n",
    "replace_vowels(\"the aardvark\", \"#\") ➞ \"th# ##rdv#rk\" replace_vowels(\"minnie mouse\", \"?\") ➞ \"m?nn?? m??s?\" replace_vowels(\"shakespeare\", \"\") ➞ \"shksp**r\""
   ]
  },
  {
   "cell_type": "code",
   "execution_count": 9,
   "id": "70127777",
   "metadata": {},
   "outputs": [],
   "source": [
    "def replace_vowels(text,character):\n",
    "    try:\n",
    "        print('Your original text : ',text)\n",
    "        l=['a','e','i','o','u','A','E','I','O','U']\n",
    "        for i in range(len(text)):\n",
    "            if text[i] in l:\n",
    "                text=text[:i]+character+text[i+1:]\n",
    "        return 'After replacement : '+text    \n",
    "                \n",
    "    except Exception as e:\n",
    "        print('This is an error message: ',e)"
   ]
  },
  {
   "cell_type": "code",
   "execution_count": 10,
   "id": "82bca561",
   "metadata": {},
   "outputs": [
    {
     "name": "stdout",
     "output_type": "stream",
     "text": [
      "Your original text :  the aardvark\n"
     ]
    },
    {
     "data": {
      "text/plain": [
       "'After replacement : th# ##rdv#rk'"
      ]
     },
     "execution_count": 10,
     "metadata": {},
     "output_type": "execute_result"
    }
   ],
   "source": [
    "replace_vowels(\"the aardvark\", \"#\")"
   ]
  },
  {
   "cell_type": "code",
   "execution_count": 11,
   "id": "d6f5f3a4",
   "metadata": {},
   "outputs": [
    {
     "name": "stdout",
     "output_type": "stream",
     "text": [
      "Your original text :  minnie mouse\n"
     ]
    },
    {
     "data": {
      "text/plain": [
       "'After replacement : m?nn?? m??s?'"
      ]
     },
     "execution_count": 11,
     "metadata": {},
     "output_type": "execute_result"
    }
   ],
   "source": [
    "replace_vowels(\"minnie mouse\", \"?\")"
   ]
  },
  {
   "cell_type": "code",
   "execution_count": 12,
   "id": "da8a3907",
   "metadata": {},
   "outputs": [
    {
     "name": "stdout",
     "output_type": "stream",
     "text": [
      "Your original text :  shakespeare\n",
      "This is an error message:  string index out of range\n"
     ]
    }
   ],
   "source": [
    "replace_vowels(\"shakespeare\", \"\")"
   ]
  },
  {
   "cell_type": "markdown",
   "id": "a136cf49",
   "metadata": {},
   "source": [
    "Question4. \n",
    "Write a function that calculates the factorial of a number recursively.\n",
    "Examples \n",
    "factorial(5) ➞ 120 \n",
    "factorial(3) ➞ 6 \n",
    "factorial(1) ➞ 1 \n",
    "factorial(0) ➞ 1"
   ]
  },
  {
   "cell_type": "code",
   "execution_count": 13,
   "id": "23df8766",
   "metadata": {},
   "outputs": [],
   "source": [
    "def fact(n):\n",
    "    if n<=1:\n",
    "        return 1\n",
    "    if n>1:\n",
    "        return n*fact(n-1)"
   ]
  },
  {
   "cell_type": "code",
   "execution_count": 14,
   "id": "a2fd6714",
   "metadata": {},
   "outputs": [
    {
     "data": {
      "text/plain": [
       "120"
      ]
     },
     "execution_count": 14,
     "metadata": {},
     "output_type": "execute_result"
    }
   ],
   "source": [
    "fact(5)"
   ]
  },
  {
   "cell_type": "code",
   "execution_count": 15,
   "id": "7078648a",
   "metadata": {},
   "outputs": [
    {
     "data": {
      "text/plain": [
       "6"
      ]
     },
     "execution_count": 15,
     "metadata": {},
     "output_type": "execute_result"
    }
   ],
   "source": [
    "fact(3)"
   ]
  },
  {
   "cell_type": "code",
   "execution_count": 16,
   "id": "ac40cdb8",
   "metadata": {},
   "outputs": [
    {
     "data": {
      "text/plain": [
       "1"
      ]
     },
     "execution_count": 16,
     "metadata": {},
     "output_type": "execute_result"
    }
   ],
   "source": [
    "fact(1)"
   ]
  },
  {
   "cell_type": "code",
   "execution_count": 17,
   "id": "c17d754e",
   "metadata": {},
   "outputs": [
    {
     "data": {
      "text/plain": [
       "1"
      ]
     },
     "execution_count": 17,
     "metadata": {},
     "output_type": "execute_result"
    }
   ],
   "source": [
    "fact(0)"
   ]
  },
  {
   "cell_type": "markdown",
   "id": "e796ba2b",
   "metadata": {},
   "source": [
    "Question 5\n",
    "Hamming distance is the number of characters that differ between two strings. To illustrate: String1: \"abcbba\" String2: \"abcbda\" Hamming Distance: 1 - \"b\" vs. \"d\" is the only difference. Create a function that computes the hamming distance between two strings. \n",
    "Examples \n",
    "hamming_distance(\"abcde\", \"bcdef\") ➞ 5 \n",
    "hamming_distance(\"abcde\", \"abcde\") ➞ 0 \n",
    "hamming_distance(\"strong\", \"strung\") ➞ 1"
   ]
  },
  {
   "cell_type": "code",
   "execution_count": 18,
   "id": "9f0699de",
   "metadata": {},
   "outputs": [],
   "source": [
    "def hamming_distance(s1,s2):\n",
    "    try: \n",
    "        count=0\n",
    "        if len(s1)!=len(s2):\n",
    "            return 'Length of two strings is not same.'\n",
    "        else :\n",
    "            for i in range(len(s1)):\n",
    "                if s1[i]!=s2[i]:\n",
    "                    count+=1\n",
    "        return 'Hamming Distance = '+str(count)\n",
    "    except Exception as e:\n",
    "        print('This is an Error Message : ',e)"
   ]
  },
  {
   "cell_type": "code",
   "execution_count": 19,
   "id": "7f718b80",
   "metadata": {},
   "outputs": [
    {
     "data": {
      "text/plain": [
       "'Hamming Distance = 5'"
      ]
     },
     "execution_count": 19,
     "metadata": {},
     "output_type": "execute_result"
    }
   ],
   "source": [
    "hamming_distance(\"abcde\", \"bcdef\")"
   ]
  },
  {
   "cell_type": "code",
   "execution_count": 20,
   "id": "7b203201",
   "metadata": {},
   "outputs": [
    {
     "data": {
      "text/plain": [
       "'Hamming Distance = 0'"
      ]
     },
     "execution_count": 20,
     "metadata": {},
     "output_type": "execute_result"
    }
   ],
   "source": [
    "hamming_distance(\"abcde\", \"abcde\")"
   ]
  },
  {
   "cell_type": "code",
   "execution_count": 21,
   "id": "14db808d",
   "metadata": {},
   "outputs": [
    {
     "data": {
      "text/plain": [
       "'Hamming Distance = 1'"
      ]
     },
     "execution_count": 21,
     "metadata": {},
     "output_type": "execute_result"
    }
   ],
   "source": [
    "hamming_distance(\"strong\", \"strung\")"
   ]
  }
 ],
 "metadata": {
  "kernelspec": {
   "display_name": "Python 3 (ipykernel)",
   "language": "python",
   "name": "python3"
  },
  "language_info": {
   "codemirror_mode": {
    "name": "ipython",
    "version": 3
   },
   "file_extension": ".py",
   "mimetype": "text/x-python",
   "name": "python",
   "nbconvert_exporter": "python",
   "pygments_lexer": "ipython3",
   "version": "3.9.12"
  }
 },
 "nbformat": 4,
 "nbformat_minor": 5
}
