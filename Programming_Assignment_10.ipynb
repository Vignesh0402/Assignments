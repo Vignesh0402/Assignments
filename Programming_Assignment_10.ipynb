{
 "cells": [
  {
   "cell_type": "code",
   "execution_count": 1,
   "id": "b9de5686",
   "metadata": {},
   "outputs": [
    {
     "name": "stdout",
     "output_type": "stream",
     "text": [
      "Enter the elements of the lists: 1,12,3,15,85,12,16,2,3,54,5\n",
      "Sum of the elements of the list is:  208\n"
     ]
    }
   ],
   "source": [
    "#Q1. Write a Python program to find sum of elements in list?\n",
    "\n",
    "l = list(map(int,input('Enter the elements of the lists: ').split(',')))\n",
    "s = 0\n",
    "for i in l:\n",
    "    s += i\n",
    "    \n",
    "print(\"Sum of the elements of the list is: \",s)"
   ]
  },
  {
   "cell_type": "code",
   "execution_count": 2,
   "id": "3abf1413",
   "metadata": {},
   "outputs": [
    {
     "name": "stdout",
     "output_type": "stream",
     "text": [
      "Product of the elements from the list is = 14276736000\n"
     ]
    }
   ],
   "source": [
    "#Q2. Write a Python program to  Multiply all numbers in the list?\n",
    "\n",
    "m = 1\n",
    "for i in l:\n",
    "    m = m*i\n",
    "print(\"Product of the elements from the list is =\",m)"
   ]
  },
  {
   "cell_type": "code",
   "execution_count": 3,
   "id": "d07a6521",
   "metadata": {},
   "outputs": [
    {
     "name": "stdout",
     "output_type": "stream",
     "text": [
      "Smallest number in the list is : 1\n"
     ]
    }
   ],
   "source": [
    "#Q3. Write a Python program to find smallest number in a list?\n",
    "\n",
    "smallest = l[0]\n",
    "for i in range(len(l)):\n",
    "    if l[i]<smallest :\n",
    "        smallest = l[i]\n",
    "print(\"Smallest number in the list is :\",smallest)"
   ]
  },
  {
   "cell_type": "code",
   "execution_count": 4,
   "id": "240526eb",
   "metadata": {},
   "outputs": [
    {
     "name": "stdout",
     "output_type": "stream",
     "text": [
      "Largest number in the list is : 85\n"
     ]
    }
   ],
   "source": [
    "#Q4. Write a Python Program to find the largest number in list?\n",
    "\n",
    "largest = l[0]\n",
    "for i in range(len(l)):\n",
    "    if l[i] > largest :\n",
    "        largest = l[i]\n",
    "print(\"Largest number in the list is :\",largest)"
   ]
  },
  {
   "cell_type": "code",
   "execution_count": 5,
   "id": "e9e112f9",
   "metadata": {},
   "outputs": [
    {
     "name": "stdout",
     "output_type": "stream",
     "text": [
      "[1, 2, 3, 3, 5, 12, 12, 15, 16, 54, 85]\n",
      "Second Largest element in a list is 54\n"
     ]
    }
   ],
   "source": [
    "#Q5. Write a Python Program to find second largest number in a list?\n",
    "l.sort()\n",
    "print(l)\n",
    "print(\"Second Largest element in a list is\",l[-2])"
   ]
  },
  {
   "cell_type": "code",
   "execution_count": 7,
   "id": "10718ba6",
   "metadata": {},
   "outputs": [
    {
     "name": "stdout",
     "output_type": "stream",
     "text": [
      "Enter the value of n : 3\n",
      "[1, 2, 3, 3, 5, 12, 12, 15, 16, 54, 85]\n",
      "3 Largest element in a list is3\n"
     ]
    }
   ],
   "source": [
    "#Q6. Write a Python program to find N largest elements in a list?\n",
    "n = int(input(\"Enter the value of n : \"))\n",
    "l.sort()\n",
    "print(l)\n",
    "print(f\"{n} Largest element in a list is{l[n]}\")"
   ]
  },
  {
   "cell_type": "code",
   "execution_count": 8,
   "id": "17f1438f",
   "metadata": {},
   "outputs": [
    {
     "name": "stdout",
     "output_type": "stream",
     "text": [
      "Given list elements :[1, 2, 3, 3, 5, 12, 12, 15, 16, 54, 85],\n",
      "List of Even numbers in a list are :[2, 12, 12, 16, 54]\n"
     ]
    }
   ],
   "source": [
    "#Q7. Write a Python Program to print even numbers in a list?\n",
    "l_even = []\n",
    "for i in l:\n",
    "    if i%2 ==0:\n",
    "        l_even.append(i)\n",
    "print(f\"Given list elements :{l},\\nList of Even numbers in a list are :{l_even}\")"
   ]
  },
  {
   "cell_type": "code",
   "execution_count": 9,
   "id": "57356b79",
   "metadata": {},
   "outputs": [
    {
     "name": "stdout",
     "output_type": "stream",
     "text": [
      "Given list elements :[1, 2, 3, 3, 5, 12, 12, 15, 16, 54, 85],\n",
      "List of Odd numbers in a list are :[1, 3, 3, 5, 15, 85]\n"
     ]
    }
   ],
   "source": [
    "#Q8. Write a Python Program to print odd numbers in a list?\n",
    "l_odd = []\n",
    "for i in l:\n",
    "    if i%2 !=0:\n",
    "        l_odd.append(i)\n",
    "print(f\"Given list elements :{l},\\nList of Odd numbers in a list are :{l_odd}\")"
   ]
  },
  {
   "cell_type": "code",
   "execution_count": 10,
   "id": "50a2f014",
   "metadata": {},
   "outputs": [
    {
     "name": "stdout",
     "output_type": "stream",
     "text": [
      "Orginal List : [1, 2, 3, 4, 5, 6, [], 8, 9, [], 11, 12, 13, [], 15, []]\n",
      "List after removing empty list:  [1, 2, 3, 4, 5, 6, [], 8, 9, [], 11, 12, 13, [], 15, []]\n"
     ]
    }
   ],
   "source": [
    "#Q9. Write a Python program to Remove empty List from List?\n",
    "l1 = [1,2,3,4,5,6,[],8,9,[],11,12,13,[],15,[]]\n",
    "print(\"Orginal List :\",l1)\n",
    "for i in l:\n",
    "    if str(i) ==[]:\n",
    "        l1.remove(i)\n",
    "print(\"List after removing empty list: \",l1)"
   ]
  },
  {
   "cell_type": "code",
   "execution_count": 11,
   "id": "95f5f5a7",
   "metadata": {},
   "outputs": [
    {
     "name": "stdout",
     "output_type": "stream",
     "text": [
      "Original List: [4, 8, 2, 10, 15, 18]\n",
      "After Cloning: [4, 8, 2, 10, 15, 18]\n"
     ]
    }
   ],
   "source": [
    "#Q10. Write a Python program to cloning or copying a list?\n",
    "def Cloning(l):\n",
    "    l_copy = l[:]\n",
    "    return l_copy\n",
    "l = [4, 8, 2, 10, 15, 18]\n",
    "l_clone = Cloning(l)\n",
    "print(\"Original List:\", l)\n",
    "print(\"After Cloning:\", l_clone)"
   ]
  },
  {
   "cell_type": "code",
   "execution_count": null,
   "id": "4b3cb1c8",
   "metadata": {},
   "outputs": [],
   "source": [
    "#Q11. Write a Python program to Count occurrences of an element in a list?\n",
    "\n",
    "def count_occurance(l,n):\n",
    "    c = 0\n",
    "    for i in l:\n",
    "        if i == n:\n",
    "            c +=1\n",
    "    return c\n",
    "\n",
    "\n",
    "l = list(map(int,input(\"Enter the elements of the list : \").split(',')))\n",
    "n = int(input(\"Count of the occurance :\"))\n",
    "count_occurance(l,n)\n",
    "print(f\"{n},'occured',{count_occurance(l,n)},'times.'\")"
   ]
  }
 ],
 "metadata": {
  "kernelspec": {
   "display_name": "Python 3 (ipykernel)",
   "language": "python",
   "name": "python3"
  },
  "language_info": {
   "codemirror_mode": {
    "name": "ipython",
    "version": 3
   },
   "file_extension": ".py",
   "mimetype": "text/x-python",
   "name": "python",
   "nbconvert_exporter": "python",
   "pygments_lexer": "ipython3",
   "version": "3.9.12"
  }
 },
 "nbformat": 4,
 "nbformat_minor": 5
}
