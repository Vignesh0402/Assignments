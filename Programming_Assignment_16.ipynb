{
 "cells": [
  {
   "cell_type": "markdown",
   "id": "b70c5b2d",
   "metadata": {},
   "source": [
    "Question1. Write a function that stutters a word as if someone is struggling to read it. The first two letters are repeated twice with an ellipsis ... and space after each, and then the word is pronounced with a question mark ?.\n",
    "Examples\n",
    "stutter(\"incredible\") ➞ \"in... in... incredible?\"\n",
    "\n",
    "stutter(\"enthusiastic\") ➞ \"en... en... enthusiastic?\"\n",
    "\n",
    "stutter(\"outstanding\") ➞ \"ou... ou... outstanding?\"\n",
    "\n",
    "Hint :- Assume all input is in lower case and at least two characters long."
   ]
  },
  {
   "cell_type": "code",
   "execution_count": 1,
   "id": "efcaceca",
   "metadata": {},
   "outputs": [],
   "source": [
    "def stutters(word):\n",
    "    print((word[0:2]+'...')*2,word,\"?\")"
   ]
  },
  {
   "cell_type": "code",
   "execution_count": 14,
   "id": "5cdc07a6",
   "metadata": {},
   "outputs": [
    {
     "name": "stdout",
     "output_type": "stream",
     "text": [
      "in...in... increadible ?\n",
      "en...en... enthusiastics ?\n",
      "ou...ou... outstanding ?\n"
     ]
    }
   ],
   "source": [
    "stutters('increadible')\n",
    "stutters('enthusiastics')\n",
    "stutters('outstanding')"
   ]
  },
  {
   "cell_type": "markdown",
   "id": "0e2081b5",
   "metadata": {},
   "source": [
    "Question 2.Create a function that takes an angle in radians and returns the corresponding angle in degrees rounded to one decimal place.\n",
    "Examples\n",
    "radians_to_degrees(1) ➞ 57.3\n",
    "\n",
    "radians_to_degrees(20) ➞ 1145.9\n",
    "\n",
    "radians_to_degrees(50) ➞ 2864.8"
   ]
  },
  {
   "cell_type": "code",
   "execution_count": 4,
   "id": "6ffbb349",
   "metadata": {},
   "outputs": [],
   "source": [
    "from math import pi\n",
    "def radians_to_degree(radian):\n",
    "    return round((180/pi)*radian,2)"
   ]
  },
  {
   "cell_type": "code",
   "execution_count": 5,
   "id": "cc4ad3cb",
   "metadata": {},
   "outputs": [
    {
     "data": {
      "text/plain": [
       "57.3"
      ]
     },
     "execution_count": 5,
     "metadata": {},
     "output_type": "execute_result"
    }
   ],
   "source": [
    "radians_to_degree(1)"
   ]
  },
  {
   "cell_type": "code",
   "execution_count": 8,
   "id": "be729837",
   "metadata": {},
   "outputs": [
    {
     "data": {
      "text/plain": [
       "1145.92"
      ]
     },
     "execution_count": 8,
     "metadata": {},
     "output_type": "execute_result"
    }
   ],
   "source": [
    "radians_to_degree(20)"
   ]
  },
  {
   "cell_type": "code",
   "execution_count": 9,
   "id": "44e8b833",
   "metadata": {},
   "outputs": [
    {
     "data": {
      "text/plain": [
       "2864.79"
      ]
     },
     "execution_count": 9,
     "metadata": {},
     "output_type": "execute_result"
    }
   ],
   "source": [
    " radians_to_degree(50)"
   ]
  },
  {
   "cell_type": "raw",
   "id": "db856e80",
   "metadata": {},
   "source": [
    "Question 3. In this challenge, establish if a given integer num is a Curzon number. If 1 plus 2 elevated to num is exactly divisible by 1 plus 2 multiplied by num, then num is a Curzon number.\n",
    "Given a non-negative integer num, implement a function that returns True if num is a Curzon number, or False otherwise.\n",
    "Examples\n",
    "is_curzon(5) ➞ True\n",
    "# 2 ** 5 + 1 = 33\n",
    "# 2 * 5 + 1 = 11\n",
    "# 33 is a multiple of 11\n",
    "\n",
    "is_curzon(10) ➞ False\n",
    "# 2 ** 10 + 1 = 1025\n",
    "# 2 * 10 + 1 = 21\n",
    "# 1025 is not a multiple of 21\n",
    "\n",
    "is_curzon(14) ➞ True\n",
    "# 2 ** 14 + 1 = 16385\n",
    "# 2 * 14 + 1 = 29\n",
    "# 16385 is a multiple of 29"
   ]
  },
  {
   "cell_type": "code",
   "execution_count": 16,
   "id": "6986ab08",
   "metadata": {},
   "outputs": [],
   "source": [
    "def isCurzonNumber(n):\n",
    "    try:\n",
    "        if n < 0 :\n",
    "            return 'invalid input'\n",
    "        else :\n",
    "            x=2**n + 1\n",
    "            y=2*n + 1\n",
    "            if x%y ==0 :\n",
    "                return True\n",
    "            else:\n",
    "                return False\n",
    "    except Exception as e:\n",
    "        print('Error occured:',e)"
   ]
  },
  {
   "cell_type": "code",
   "execution_count": 17,
   "id": "8cf2b9af",
   "metadata": {},
   "outputs": [
    {
     "data": {
      "text/plain": [
       "True"
      ]
     },
     "execution_count": 17,
     "metadata": {},
     "output_type": "execute_result"
    }
   ],
   "source": [
    "isCurzonNumber(5)"
   ]
  },
  {
   "cell_type": "code",
   "execution_count": 18,
   "id": "a92cfd2d",
   "metadata": {},
   "outputs": [
    {
     "data": {
      "text/plain": [
       "False"
      ]
     },
     "execution_count": 18,
     "metadata": {},
     "output_type": "execute_result"
    }
   ],
   "source": [
    "isCurzonNumber(7)"
   ]
  },
  {
   "cell_type": "code",
   "execution_count": 19,
   "id": "0974f6bb",
   "metadata": {},
   "outputs": [
    {
     "data": {
      "text/plain": [
       "True"
      ]
     },
     "execution_count": 19,
     "metadata": {},
     "output_type": "execute_result"
    }
   ],
   "source": [
    "isCurzonNumber(14)"
   ]
  },
  {
   "cell_type": "markdown",
   "id": "1c07f597",
   "metadata": {},
   "source": [
    "Question 4.Given the side length x find the area of a hexagon.\n",
    " \n",
    "Examples\n",
    "area_of_hexagon(1) ➞ 2.6\n",
    "\n",
    "area_of_hexagon(2) ➞ 10.4\n",
    "\n",
    "area_of_hexagon(3) ➞ 23.4"
   ]
  },
  {
   "cell_type": "code",
   "execution_count": 20,
   "id": "1bd0e595",
   "metadata": {},
   "outputs": [],
   "source": [
    "def area_hexagon(side):\n",
    "    \"To find area of a hexagon.\"\n",
    "    try:\n",
    "        area= (((3)**(3/2))/2)*(side**2)\n",
    "        return round(area,1)\n",
    "    except Exception as e:\n",
    "        print('this is the error msg:',e)"
   ]
  },
  {
   "cell_type": "code",
   "execution_count": 21,
   "id": "05627697",
   "metadata": {},
   "outputs": [
    {
     "data": {
      "text/plain": [
       "2.6"
      ]
     },
     "execution_count": 21,
     "metadata": {},
     "output_type": "execute_result"
    }
   ],
   "source": [
    "area_hexagon(1)"
   ]
  },
  {
   "cell_type": "code",
   "execution_count": 22,
   "id": "2ad139bb",
   "metadata": {},
   "outputs": [
    {
     "data": {
      "text/plain": [
       "10.4"
      ]
     },
     "execution_count": 22,
     "metadata": {},
     "output_type": "execute_result"
    }
   ],
   "source": [
    "area_hexagon(2)"
   ]
  },
  {
   "cell_type": "code",
   "execution_count": 23,
   "id": "7c064d19",
   "metadata": {},
   "outputs": [
    {
     "data": {
      "text/plain": [
       "23.4"
      ]
     },
     "execution_count": 23,
     "metadata": {},
     "output_type": "execute_result"
    }
   ],
   "source": [
    "area_hexagon(3)"
   ]
  },
  {
   "cell_type": "raw",
   "id": "0228febd",
   "metadata": {},
   "source": [
    "Question 5. Create a function that returns a base-2 (binary) representation of a base-10 (decimal) string number. To convert is simple: ((2) means base-2 and (10) means base-10) 010101001(2) = 1 + 8 + 32 + 128.\n",
    "Going from right to left, the value of the most right bit is 1, now from that every bit to the left will be x2 the value, value of an 8 bit binary numbers are (256, 128, 64, 32, 16, 8, 4, 2, 1).\n",
    "Examples\n",
    "binary(1) ➞ \"1\"\n",
    "# 1*1 = 1\n",
    "\n",
    "binary(5) ➞ \"101\"\n",
    "# 1*1 + 1*4 = 5\n",
    "\n",
    "binary(10) ➞ \"1010\"\n",
    "# 1*2 + 1*8 = 10"
   ]
  },
  {
   "cell_type": "code",
   "execution_count": 24,
   "id": "e6b0b4fd",
   "metadata": {},
   "outputs": [],
   "source": [
    "def binary_to_decimal(n):\n",
    "    '''Enter any binary number to get converted into its decimal form'''\n",
    "    try:\n",
    "        x,decimal=0,0\n",
    "        while n>0:\n",
    "            y=n%10\n",
    "            decimal+= y*(2**x)\n",
    "            n=n//10\n",
    "            x+=1\n",
    "        return decimal\n",
    "    except Exception as e:\n",
    "        print('Error message : ',e)\n",
    "        \n",
    "def decimal_to_binary(n):\n",
    "    try:\n",
    "        l=[]\n",
    "        while n!= 0 :\n",
    "            l.append(n%2)\n",
    "            n=int(n/2)\n",
    "        l.reverse()\n",
    "        for i in l:\n",
    "            print(i,end='')\n",
    "    except Exception as e:\n",
    "        print('Error message : ',e)"
   ]
  },
  {
   "cell_type": "code",
   "execution_count": 29,
   "id": "50fa2da1",
   "metadata": {},
   "outputs": [
    {
     "data": {
      "text/plain": [
       "5"
      ]
     },
     "execution_count": 29,
     "metadata": {},
     "output_type": "execute_result"
    }
   ],
   "source": [
    "binary_to_decimal(101)"
   ]
  },
  {
   "cell_type": "code",
   "execution_count": 30,
   "id": "cd060508",
   "metadata": {},
   "outputs": [
    {
     "name": "stdout",
     "output_type": "stream",
     "text": [
      "1010"
     ]
    }
   ],
   "source": [
    "decimal_to_binary(10)"
   ]
  },
  {
   "cell_type": "code",
   "execution_count": 31,
   "id": "af9c13e8",
   "metadata": {},
   "outputs": [
    {
     "name": "stdout",
     "output_type": "stream",
     "text": [
      "101"
     ]
    }
   ],
   "source": [
    "decimal_to_binary(5)"
   ]
  },
  {
   "cell_type": "code",
   "execution_count": 32,
   "id": "931bef22",
   "metadata": {},
   "outputs": [
    {
     "name": "stdout",
     "output_type": "stream",
     "text": [
      "1"
     ]
    }
   ],
   "source": [
    "decimal_to_binary(1)"
   ]
  },
  {
   "cell_type": "code",
   "execution_count": 33,
   "id": "296881bb",
   "metadata": {},
   "outputs": [
    {
     "data": {
      "text/plain": [
       "21"
      ]
     },
     "execution_count": 33,
     "metadata": {},
     "output_type": "execute_result"
    }
   ],
   "source": [
    "binary_to_decimal(10101)"
   ]
  },
  {
   "cell_type": "code",
   "execution_count": null,
   "id": "b9fc1f30",
   "metadata": {},
   "outputs": [],
   "source": [
    "decimal_to_binary(111)"
   ]
  }
 ],
 "metadata": {
  "kernelspec": {
   "display_name": "Python 3 (ipykernel)",
   "language": "python",
   "name": "python3"
  },
  "language_info": {
   "codemirror_mode": {
    "name": "ipython",
    "version": 3
   },
   "file_extension": ".py",
   "mimetype": "text/x-python",
   "name": "python",
   "nbconvert_exporter": "python",
   "pygments_lexer": "ipython3",
   "version": "3.9.12"
  }
 },
 "nbformat": 4,
 "nbformat_minor": 5
}
