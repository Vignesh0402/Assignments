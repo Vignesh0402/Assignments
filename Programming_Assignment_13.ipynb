{
 "cells": [
  {
   "cell_type": "code",
   "execution_count": null,
   "id": "87af3cba",
   "metadata": {},
   "outputs": [],
   "source": [
    "# Question 1:\n",
    "\"\"\"\n",
    "Write a program that calculates and prints the value according to the given formula:\n",
    "Q = Square root of [(2 * C * D)/H]\n",
    "Following are the fixed values of C and H:\n",
    "C is 50. H is 30.\n",
    "D is the variable whose values should be input to your program in a comma-separated\n",
    "sequence.\n",
    "Example\n",
    "Let us assume the following comma separated input sequence is given to the program:\n",
    "100,150,180\n",
    "The output of the program should be:\n",
    "18,22,24\n",
    "\"\"\""
   ]
  },
  {
   "cell_type": "code",
   "execution_count": 1,
   "id": "800b7713",
   "metadata": {},
   "outputs": [
    {
     "name": "stdout",
     "output_type": "stream",
     "text": [
      "Enter the values of D seperated by comma :100,150,180\n",
      "Outputs : [18, 22, 24]\n"
     ]
    }
   ],
   "source": [
    "C , H = 50, 30\n",
    "D = list(map(int,input(\"Enter the values of D seperated by comma :\").split(',')))\n",
    "l = []\n",
    "for i in D:\n",
    "    Q = int(((2*C*i)/H)**(0.5))\n",
    "    l.append(Q)\n",
    "print(\"Outputs :\", l)"
   ]
  },
  {
   "cell_type": "code",
   "execution_count": null,
   "id": "37b71f75",
   "metadata": {},
   "outputs": [],
   "source": [
    "Question 2: \n",
    "    Write a program which takes 2 digits, X,Y as input and generates a 2-dimensional array. \n",
    "The element value in the i-th row and j-th column of the array should be i*j. \n",
    "Note: i=0,1.., X-1; j=0,1,¡Y-1. \n",
    "Example Suppose the following inputs are given to the program:\n",
    "    3,5 \n",
    "Then, the output of the program should be: \n",
    "    [[0, 0, 0, 0, 0], [0, 1, 2, 3, 4], [0, 2, 4, 6, 8]]"
   ]
  },
  {
   "cell_type": "code",
   "execution_count": 2,
   "id": "eb9d4edc",
   "metadata": {},
   "outputs": [
    {
     "name": "stdout",
     "output_type": "stream",
     "text": [
      "Enter the number of rows : 3\n",
      "Enter the number of columns : 5\n",
      "\n",
      "Output as 2-dimensional array :\n",
      "  [0, 0, 0, 0, 0]\n",
      "  [0, 1, 2, 3, 4]\n",
      "  [0, 2, 4, 6, 8]\n"
     ]
    }
   ],
   "source": [
    "x,y=int(input('Enter the number of rows : ')),int(input('Enter the number of columns : '))\n",
    "l=[]\n",
    "for i in range(x):\n",
    "    l1=[]\n",
    "    for j in range(y):\n",
    "        l1.append(i*j)\n",
    "    l.append(l1)\n",
    "print('\\nOutput as 2-dimensional array :')\n",
    "for i in l:\n",
    "    print(' ',i)"
   ]
  },
  {
   "cell_type": "code",
   "execution_count": null,
   "id": "38e18935",
   "metadata": {},
   "outputs": [],
   "source": [
    "Q3: \n",
    "    Write a program that accepts a comma separated sequence of words as input and prints the words in a comma-separated \n",
    "sequence after sorting them alphabetically. \n",
    "Suppose the following input is supplied to the program: \n",
    "    without,hello,bag,world \n",
    "Then, the output should be: \n",
    "    bag,hello,without,world"
   ]
  },
  {
   "cell_type": "code",
   "execution_count": 3,
   "id": "9d87c038",
   "metadata": {},
   "outputs": [
    {
     "name": "stdout",
     "output_type": "stream",
     "text": [
      "Enter a comma seperated sequence of words :without,hello,bag,world\n",
      "['without,hello,bag,world']\n"
     ]
    }
   ],
   "source": [
    "l = list(map(str,input(\"Enter a comma seperated sequence of words :\").split(' ')))\n",
    "l.sort()\n",
    "print(str(l))"
   ]
  },
  {
   "cell_type": "code",
   "execution_count": null,
   "id": "8f987779",
   "metadata": {},
   "outputs": [],
   "source": [
    "Q4: Write a program that accepts a sequence of whitespace separated\n",
    "words as input and prints the words after removing all duplicate words and \n",
    "sorting them alphanumerically. \n",
    "Suppose the following input is supplied to the program: \n",
    "hello world and practice makes perfect and hello world again \n",
    "Then, the output should be: again and hello makes perfect practice world"
   ]
  },
  {
   "cell_type": "code",
   "execution_count": 4,
   "id": "7b503099",
   "metadata": {},
   "outputs": [
    {
     "name": "stdout",
     "output_type": "stream",
     "text": [
      "Enter sentence to remove duplicate words and arrange alphabetically :\n",
      "hello world and practice makes perfect and hello world again\n",
      "practice makes again hello and perfect world "
     ]
    }
   ],
   "source": [
    "l =list(map(str,input(\"Enter sentence to remove duplicate words and arrange alphabetically :\\n\").split(' ')))\n",
    "s = set(l)\n",
    "l = list(s)\n",
    "for i in l:\n",
    "    print(i,end=' ')"
   ]
  },
  {
   "cell_type": "code",
   "execution_count": null,
   "id": "dbe91a3f",
   "metadata": {},
   "outputs": [],
   "source": [
    "Q5. Write a program that accepts a sentence and calculate the number of letters and digits.\n",
    "Suppose the following input is supplied to the program:\n",
    "hello world! 123\n",
    "Then, the output should be:\n",
    "LETTERS 10\n",
    "\n",
    "DIGITS 3"
   ]
  },
  {
   "cell_type": "code",
   "execution_count": 5,
   "id": "bf7c27ee",
   "metadata": {},
   "outputs": [
    {
     "name": "stdout",
     "output_type": "stream",
     "text": [
      "Enter the sentence : hello world! 123\n",
      "LETTERS  10\n"
     ]
    }
   ],
   "source": [
    "x=input('Enter the sentence : ')\n",
    "s=set(x)\n",
    "l1=[' ','!','\"','#','$','%','&',\"'\",'*','+','‑','/','<','=','>','?','@']\n",
    "c=0\n",
    "for i in s:\n",
    "    if i not in l1:\n",
    "        c+=1\n",
    "print('LETTERS ',c)"
   ]
  },
  {
   "cell_type": "code",
   "execution_count": null,
   "id": "53107988",
   "metadata": {},
   "outputs": [],
   "source": [
    "Q6: \n",
    "    A website requires the users to input username and password to register.\n",
    "Write a program to check the validity of password input by users. Following are the criteria for checking the password:\n",
    "    1.At least 1 letter between [a-z]\n",
    "    2.At least 1 number between [0-9]\n",
    "    3.At least 1 letter between [A-Z]\n",
    "    4.At least 1 character from [$#@]\n",
    "    5.Minimum length of transaction password: 6\n",
    "    6.Maximum length of transaction password: 12\n",
    "Your program should accept a sequence of comma separated passwords and will check them according to the above criteria. \n",
    "Passwords that match the criteria are to be printed, each separated by a comma.\n",
    "Example If the following passwords are given as input to the program: \n",
    "\n",
    "ABd1234@1,a F1#,2w3E*,2We3345 Then, the output of the program should be: ABd1234@1"
   ]
  },
  {
   "cell_type": "code",
   "execution_count": 6,
   "id": "8757fbcd",
   "metadata": {},
   "outputs": [
    {
     "name": "stdout",
     "output_type": "stream",
     "text": [
      "Enter comma seperated words to arrange alphabatically : ABd1234@1,a F1#,2w3E*,2We3345\n",
      "\n",
      " ABd1234@1\n"
     ]
    }
   ],
   "source": [
    "def passwd_check(x):\n",
    "    c1=c2=c3=c4=c5=c6=False\n",
    "    for i in x:\n",
    "        if i in [chr(j) for j in range(97,123)]:\n",
    "            c1=True\n",
    "            break\n",
    "    for i in x:\n",
    "        if i in [chr(j) for j in range(48,58)]:\n",
    "            c2=True\n",
    "            break\n",
    "    for i in x:\n",
    "        if i in [chr(j) for j in range(65,91)]:\n",
    "            c3=True\n",
    "            break  \n",
    "    for i in x:\n",
    "        if i=='@' or i=='#' or i=='$':\n",
    "            c4=True\n",
    "            break\n",
    "    if len(x)>5 and len(x)<13 :\n",
    "        c5=c6=True\n",
    "    if  c1==True and c2==True and c3==True and c4==True and c5==True and c6==True :\n",
    "        return True\n",
    "    else: \n",
    "        return False\n",
    "    \n",
    "l=list(map(str,input('Enter comma seperated words to arrange alphabatically : ').split(',')))\n",
    "for i in l:\n",
    "    if passwd_check(i) == True:\n",
    "        print('\\n',i)"
   ]
  }
 ],
 "metadata": {
  "kernelspec": {
   "display_name": "Python 3 (ipykernel)",
   "language": "python",
   "name": "python3"
  },
  "language_info": {
   "codemirror_mode": {
    "name": "ipython",
    "version": 3
   },
   "file_extension": ".py",
   "mimetype": "text/x-python",
   "name": "python",
   "nbconvert_exporter": "python",
   "pygments_lexer": "ipython3",
   "version": "3.9.12"
  }
 },
 "nbformat": 4,
 "nbformat_minor": 5
}
