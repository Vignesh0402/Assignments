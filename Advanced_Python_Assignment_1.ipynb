{
 "cells": [
  {
   "cell_type": "markdown",
   "id": "439c0614",
   "metadata": {},
   "source": [
    "### Q1. What is the purpose of Python&#39;s OOP?"
   ]
  },
  {
   "cell_type": "markdown",
   "id": "f6f48cb9",
   "metadata": {},
   "source": [
    "Object-Oriented Programming is a programming way to classify the programming language that provides a means of structuring programs so that properties and behaviors are bundled into individual objects."
   ]
  },
  {
   "cell_type": "markdown",
   "id": "0ce11627",
   "metadata": {},
   "source": [
    "### Q2. Where does an inheritance search look for an attribute?"
   ]
  },
  {
   "cell_type": "markdown",
   "id": "6a7dfbcf",
   "metadata": {},
   "source": [
    "   The whole point of a namespace tool like the class statement is to support name inheritance. In Python, inheritance happens when an object is qualified, and involves searching an attribute definition tree (one or more namespaces). Every time you use an expression of the form object."
   ]
  },
  {
   "cell_type": "markdown",
   "id": "2f00397f",
   "metadata": {},
   "source": [
    "### Q3. How do you distinguish between a class object and an instance object?"
   ]
  },
  {
   "cell_type": "markdown",
   "id": "a20572fe",
   "metadata": {},
   "source": [
    "Class:\n",
    "    A class is a template for creating objects in program. A class is a logical entity and it does not allocate memory space when it is created.We can declare class only once.\n",
    "    \n",
    "Example: College_Student"
   ]
  },
  {
   "cell_type": "markdown",
   "id": "02355140",
   "metadata": {},
   "source": [
    "Object:\n",
    "    The object is an instance of class. Object is a physical entity. Object allocates memory than one object using a class.\n",
    "\n",
    "Example: Department, Subjects, Staffs, HOD ."
   ]
  },
  {
   "cell_type": "markdown",
   "id": "3c227199",
   "metadata": {},
   "source": [
    "### Q4. What makes the first argument in a class’s method function special? "
   ]
  },
  {
   "cell_type": "markdown",
   "id": "853084a8",
   "metadata": {},
   "source": [
    "Self is the first argument to be passed in Constructor and Instance Method. Self must be provided as a First parameter to the Instanace method and constructor. If we don't provide it ,It will cause an error."
   ]
  },
  {
   "cell_type": "markdown",
   "id": "a68c5798",
   "metadata": {},
   "source": [
    "### Q5. What is the purpose of the __init__ method?"
   ]
  },
  {
   "cell_type": "markdown",
   "id": "43874175",
   "metadata": {},
   "source": [
    "  #### __init__  is a reserved method in python classes. It is called as a constructor in object reiented terminology. This method is called when an object is created from a class and it allows the class to initialize the attributes of the class."
   ]
  },
  {
   "cell_type": "markdown",
   "id": "54657e4c",
   "metadata": {},
   "source": [
    "### Q6. What is the process for creating a class instance?"
   ]
  },
  {
   "cell_type": "markdown",
   "id": "13a2985c",
   "metadata": {},
   "source": [
    "To create a instance of class, we call the class using class name and pass in whatever arguments its __init__ method accepts."
   ]
  },
  {
   "cell_type": "markdown",
   "id": "bb5b9fe3",
   "metadata": {},
   "source": [
    "### Q7. What is the process for creating a class?"
   ]
  },
  {
   "cell_type": "raw",
   "id": "e920bae9",
   "metadata": {},
   "source": [
    "A Class is like an object constructor, or a \"blueprint\" for creating objects.\n",
    "    1. Create a Class.\n",
    "    2. Create Object. \n",
    "    3. The self Parameter.\n",
    "    4. Modify Object Properties. \n",
    "    5. Delete Object Properties. \n",
    "    6. Delete Objects."
   ]
  },
  {
   "cell_type": "markdown",
   "id": "8f30b147",
   "metadata": {},
   "source": [
    "### Q8. How would you define the superclasses of a class?"
   ]
  },
  {
   "cell_type": "markdown",
   "id": "dc8c75ab",
   "metadata": {},
   "source": [
    "The class from which a class inherits is called the parent or superclass. A class which inherits from a superclass is called a subclass, also called heir class or child class. Superclasses are sometimes called ancestors as well."
   ]
  }
 ],
 "metadata": {
  "kernelspec": {
   "display_name": "Python 3 (ipykernel)",
   "language": "python",
   "name": "python3"
  },
  "language_info": {
   "codemirror_mode": {
    "name": "ipython",
    "version": 3
   },
   "file_extension": ".py",
   "mimetype": "text/x-python",
   "name": "python",
   "nbconvert_exporter": "python",
   "pygments_lexer": "ipython3",
   "version": "3.9.12"
  }
 },
 "nbformat": 4,
 "nbformat_minor": 5
}
